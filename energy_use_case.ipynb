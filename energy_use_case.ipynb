{
  "metadata": {
    "language_info": {
      "codemirror_mode": {
        "name": "python",
        "version": 3
      },
      "file_extension": ".py",
      "mimetype": "text/x-python",
      "name": "python",
      "nbconvert_exporter": "python",
      "pygments_lexer": "ipython3",
      "version": "3.8"
    },
    "kernelspec": {
      "name": "python",
      "display_name": "Pyolite",
      "language": "python"
    }
  },
  "nbformat_minor": 4,
  "nbformat": 4,
  "cells": [
    {
      "cell_type": "code",
      "source": "import js\nfrom io import StringIO\nimport pandas as pd\nimport datetime\nimport numpy as np",
      "metadata": {
        "trusted": true
      },
      "execution_count": 1,
      "outputs": []
    },
    {
      "cell_type": "code",
      "source": "op = js.self.indexedDB.open(\"JupyterLite Storage\")",
      "metadata": {
        "trusted": true
      },
      "execution_count": 2,
      "outputs": []
    },
    {
      "cell_type": "code",
      "source": "idbdb = op.result",
      "metadata": {
        "trusted": true
      },
      "execution_count": 3,
      "outputs": []
    },
    {
      "cell_type": "code",
      "source": "tr  = idbdb.transaction(\"files\")\nobs = tr.objectStore(\"files\")\nreq = obs.get(\"energy_data.csv\", \"key\")",
      "metadata": {
        "trusted": true
      },
      "execution_count": 4,
      "outputs": []
    },
    {
      "cell_type": "code",
      "source": "#zeros are transform into nulls, column reordered and renamed, rolling mean to 0 values in energy consumption columns\ncsv = req.result.content\ncsv_io = StringIO(csv)\ndf = pd.read_csv(csv_io)\nn = 3\nConsumption_2001_mean = (df['energy_consumpt_2001'].replace(0, np.nan)\n                         .rolling(n * 2 + 1, min_periods=1, center=True)\n                         .mean())\ndf.loc[df['energy_consumpt_2001'] == 0, 'energy_consumpt_2001'] = Consumption_2001_mean\nConsumption_2002_mean = (df['energy_consumpt_2002'].replace(0, np.nan)\n                         .rolling(n * 2 + 1, min_periods=1, center=True)\n                         .mean())\ndf.loc[df['energy_consumpt_2002'] == 0, 'energy_consumpt_2002'] = Consumption_2002_mean\ndf['energy_consumpt_2002'] = np.where(df['Hour'] > 8760, np.nan, df['energy_consumpt_2002'])\ncols = ['date', 'energy_consumption_2000', 'energy_consumption_2001'\n        ,'temperature_2000', 'humidity_2000',  'temperature_2001','humidity_2001']\ndf.columns = cols\ndf = df[['date', 'energy_consumption_2000', 'energy_consumption_2001',\n         'temperature_2000', 'temperature_2001', 'humidity_2000', 'humidity_2001']]",
      "metadata": {
        "tags": [],
        "trusted": true
      },
      "execution_count": 15,
      "outputs": []
    },
    {
      "cell_type": "code",
      "source": "#hour column value is changed into date m-d H:M\ndate_col = pd.date_range(\"2000-01-01\", periods=8784, freq=\"H\")\ndf['date'] = date_col.values",
      "metadata": {
        "tags": [],
        "trusted": true
      },
      "execution_count": 16,
      "outputs": []
    },
    {
      "cell_type": "code",
      "source": "#extract from date hour, day, week, groups data\nnewdf = df\n#newdf['week'] = newdf.date.dt.isocalendar().week\nnewdf['hour']  = newdf.date.dt.hour\nnewdf['day']   = newdf.date.dt.day\nnewdf['week']  = newdf.date.dt.week\nnewdf[\"hour\"]  = newdf[\"date\"].apply(lambda x: x.hour)\nnewdf[\"day\"]   = newdf[\"date\"].apply(lambda x: x.day)\nnewdf[\"week\"]  = newdf[\"date\"].apply(lambda x: x.week)",
      "metadata": {
        "trusted": true
      },
      "execution_count": 17,
      "outputs": [
        {
          "name": "stderr",
          "text": "<ipython-input-17-8c1575c37154>:6: FutureWarning: Series.dt.weekofyear and Series.dt.week have been deprecated. Please use Series.dt.isocalendar().week instead.\n  newdf['week']  = newdf.date.dt.week\n",
          "output_type": "stream"
        }
      ]
    },
    {
      "cell_type": "code",
      "source": "#calculates all metrics on a hour, day, week level\nenergy_hourly = newdf.groupby(['hour']).mean().drop(columns=['day' ,'week'])\nenergy_daily  = newdf.groupby(['day' ]).mean().drop(columns=['hour','week'])\nenergy_weekly = newdf.groupby(['week']).mean().drop(columns=['hour','day'])",
      "metadata": {
        "trusted": true
      },
      "execution_count": 18,
      "outputs": []
    },
    {
      "cell_type": "code",
      "source": "#energy_hourly.describe()\nenergy_daily.describe()\n#energy_weekly.describe()",
      "metadata": {
        "trusted": true
      },
      "execution_count": 19,
      "outputs": [
        {
          "execution_count": 19,
          "output_type": "execute_result",
          "data": {
            "text/plain": "       energy_consumption_2000  energy_consumption_2001  temperature_2000  \\\ncount                31.000000                31.000000         31.000000   \nmean                489.191502               769.740850         17.608299   \nstd                   9.272465                11.820801          0.527684   \nmin                 472.394424               747.925187         16.280903   \n25%                 483.618759               761.268918         17.287326   \n50%                 486.909792               768.645313         17.702431   \n75%                 492.281968               780.023350         17.948785   \nmax                 515.926564               800.041603         18.773611   \n\n       temperature_2001  humidity_2000  humidity_2001  \ncount         31.000000      31.000000      31.000000  \nmean          18.239584      62.110989      61.510264  \nstd            0.903852       3.967177       2.201699  \nmin           16.332292      54.684028      53.333333  \n25%           17.685590      59.157986      60.442708  \n50%           18.302778      61.517361      61.531250  \n75%           18.738889      64.328125      62.800347  \nmax           20.634722      70.118056      64.809028  ",
            "text/html": "<div>\n<style scoped>\n    .dataframe tbody tr th:only-of-type {\n        vertical-align: middle;\n    }\n\n    .dataframe tbody tr th {\n        vertical-align: top;\n    }\n\n    .dataframe thead th {\n        text-align: right;\n    }\n</style>\n<table border=\"1\" class=\"dataframe\">\n  <thead>\n    <tr style=\"text-align: right;\">\n      <th></th>\n      <th>energy_consumption_2000</th>\n      <th>energy_consumption_2001</th>\n      <th>temperature_2000</th>\n      <th>temperature_2001</th>\n      <th>humidity_2000</th>\n      <th>humidity_2001</th>\n    </tr>\n  </thead>\n  <tbody>\n    <tr>\n      <th>count</th>\n      <td>31.000000</td>\n      <td>31.000000</td>\n      <td>31.000000</td>\n      <td>31.000000</td>\n      <td>31.000000</td>\n      <td>31.000000</td>\n    </tr>\n    <tr>\n      <th>mean</th>\n      <td>489.191502</td>\n      <td>769.740850</td>\n      <td>17.608299</td>\n      <td>18.239584</td>\n      <td>62.110989</td>\n      <td>61.510264</td>\n    </tr>\n    <tr>\n      <th>std</th>\n      <td>9.272465</td>\n      <td>11.820801</td>\n      <td>0.527684</td>\n      <td>0.903852</td>\n      <td>3.967177</td>\n      <td>2.201699</td>\n    </tr>\n    <tr>\n      <th>min</th>\n      <td>472.394424</td>\n      <td>747.925187</td>\n      <td>16.280903</td>\n      <td>16.332292</td>\n      <td>54.684028</td>\n      <td>53.333333</td>\n    </tr>\n    <tr>\n      <th>25%</th>\n      <td>483.618759</td>\n      <td>761.268918</td>\n      <td>17.287326</td>\n      <td>17.685590</td>\n      <td>59.157986</td>\n      <td>60.442708</td>\n    </tr>\n    <tr>\n      <th>50%</th>\n      <td>486.909792</td>\n      <td>768.645313</td>\n      <td>17.702431</td>\n      <td>18.302778</td>\n      <td>61.517361</td>\n      <td>61.531250</td>\n    </tr>\n    <tr>\n      <th>75%</th>\n      <td>492.281968</td>\n      <td>780.023350</td>\n      <td>17.948785</td>\n      <td>18.738889</td>\n      <td>64.328125</td>\n      <td>62.800347</td>\n    </tr>\n    <tr>\n      <th>max</th>\n      <td>515.926564</td>\n      <td>800.041603</td>\n      <td>18.773611</td>\n      <td>20.634722</td>\n      <td>70.118056</td>\n      <td>64.809028</td>\n    </tr>\n  </tbody>\n</table>\n</div>"
          },
          "metadata": {}
        }
      ]
    }
  ]
}
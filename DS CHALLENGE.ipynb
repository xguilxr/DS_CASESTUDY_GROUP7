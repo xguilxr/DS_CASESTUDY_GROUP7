{
 "cells": [
  {
   "cell_type": "markdown",
   "id": "cab18b7e",
   "metadata": {},
   "source": [
    "# DATASCIENCE CHALLENGE\n",
    "\n",
    "Attached is the dataset with hourly energy load data for a period of 2 years and other climacteric variables.\n",
    "1. Analyze variables, fill in missing values, normalize extreme values.\n",
    "2. Analyse the correlation between variables by using three frequency of data:\n",
    "Hourly, daily, weekly.\n",
    "For daily/weekly frequency aggregate the data (for each variable using the sum or average values depending on the significance the aggregation has for the specifies variable. For ex. It makes sense the average temperature and not sum of temperature)\n",
    "3. Obtain prediction models (for each frequency of observation: hourly, daily, weekly) . Feel free to use statistical and/or machine learning models, or ensemble models.\n",
    "Compare different models (between the same frequency) and clearly state your final decision of the \"best\" model which can be used for prediction of energy load."
   ]
  },
  {
   "cell_type": "markdown",
   "id": "04d99b4b",
   "metadata": {},
   "source": [
    "### 1. Analyze variables, fill in missing values, normalize extreme values."
   ]
  },
  {
   "cell_type": "code",
   "execution_count": 1,
   "id": "cad3108e",
   "metadata": {},
   "outputs": [],
   "source": [
    "# Dependencies\n",
    "\n",
    "import pandas as pd\n",
    "import numpy as np\n",
    "import datetime\n",
    "\n",
    "%matplotlib inline\n",
    "import matplotlib.pyplot as plt\n",
    "\n",
    "from sklearn.linear_model import LinearRegression\n",
    "from sklearn.metrics import r2_score"
   ]
  },
  {
   "cell_type": "code",
   "execution_count": 2,
   "id": "8cc4ff85",
   "metadata": {},
   "outputs": [
    {
     "data": {
      "text/html": [
       "<div>\n",
       "<style scoped>\n",
       "    .dataframe tbody tr th:only-of-type {\n",
       "        vertical-align: middle;\n",
       "    }\n",
       "\n",
       "    .dataframe tbody tr th {\n",
       "        vertical-align: top;\n",
       "    }\n",
       "\n",
       "    .dataframe thead th {\n",
       "        text-align: right;\n",
       "    }\n",
       "</style>\n",
       "<table border=\"1\" class=\"dataframe\">\n",
       "  <thead>\n",
       "    <tr style=\"text-align: right;\">\n",
       "      <th></th>\n",
       "      <th>Hour</th>\n",
       "      <th>energy_consumpt_2001</th>\n",
       "      <th>energy_consumpt_2002</th>\n",
       "      <th>full_temp_2001</th>\n",
       "      <th>full_humid_2001</th>\n",
       "      <th>full_temp_2002</th>\n",
       "      <th>full_humid_2002</th>\n",
       "    </tr>\n",
       "  </thead>\n",
       "  <tbody>\n",
       "    <tr>\n",
       "      <th>0</th>\n",
       "      <td>1</td>\n",
       "      <td>631.623161</td>\n",
       "      <td>835.021567</td>\n",
       "      <td>-0.400000</td>\n",
       "      <td>64.000000</td>\n",
       "      <td>7.600000</td>\n",
       "      <td>82.000000</td>\n",
       "    </tr>\n",
       "    <tr>\n",
       "      <th>1</th>\n",
       "      <td>2</td>\n",
       "      <td>534.397104</td>\n",
       "      <td>711.875374</td>\n",
       "      <td>-0.733333</td>\n",
       "      <td>65.333333</td>\n",
       "      <td>7.733333</td>\n",
       "      <td>78.666667</td>\n",
       "    </tr>\n",
       "    <tr>\n",
       "      <th>2</th>\n",
       "      <td>3</td>\n",
       "      <td>453.538785</td>\n",
       "      <td>592.673215</td>\n",
       "      <td>-1.066667</td>\n",
       "      <td>66.666667</td>\n",
       "      <td>7.866667</td>\n",
       "      <td>75.333333</td>\n",
       "    </tr>\n",
       "    <tr>\n",
       "      <th>3</th>\n",
       "      <td>4</td>\n",
       "      <td>400.699718</td>\n",
       "      <td>526.997961</td>\n",
       "      <td>-1.400000</td>\n",
       "      <td>68.000000</td>\n",
       "      <td>8.000000</td>\n",
       "      <td>72.000000</td>\n",
       "    </tr>\n",
       "    <tr>\n",
       "      <th>4</th>\n",
       "      <td>5</td>\n",
       "      <td>378.171092</td>\n",
       "      <td>497.588642</td>\n",
       "      <td>-1.666667</td>\n",
       "      <td>60.333333</td>\n",
       "      <td>8.333333</td>\n",
       "      <td>69.666667</td>\n",
       "    </tr>\n",
       "  </tbody>\n",
       "</table>\n",
       "</div>"
      ],
      "text/plain": [
       "   Hour  energy_consumpt_2001  energy_consumpt_2002  full_temp_2001  \\\n",
       "0     1            631.623161            835.021567       -0.400000   \n",
       "1     2            534.397104            711.875374       -0.733333   \n",
       "2     3            453.538785            592.673215       -1.066667   \n",
       "3     4            400.699718            526.997961       -1.400000   \n",
       "4     5            378.171092            497.588642       -1.666667   \n",
       "\n",
       "   full_humid_2001  full_temp_2002  full_humid_2002  \n",
       "0        64.000000        7.600000        82.000000  \n",
       "1        65.333333        7.733333        78.666667  \n",
       "2        66.666667        7.866667        75.333333  \n",
       "3        68.000000        8.000000        72.000000  \n",
       "4        60.333333        8.333333        69.666667  "
      ]
     },
     "execution_count": 2,
     "metadata": {},
     "output_type": "execute_result"
    }
   ],
   "source": [
    "# Import the database\n",
    "\n",
    "energy_df = pd.read_csv(\"Energy _data.csv\")\n",
    "energy_df.head(5)"
   ]
  },
  {
   "cell_type": "code",
   "execution_count": 3,
   "id": "a0f0ec51",
   "metadata": {},
   "outputs": [
    {
     "name": "stdout",
     "output_type": "stream",
     "text": [
      "There are 3 columns that have missing values.\n"
     ]
    },
    {
     "data": {
      "text/html": [
       "<div>\n",
       "<style scoped>\n",
       "    .dataframe tbody tr th:only-of-type {\n",
       "        vertical-align: middle;\n",
       "    }\n",
       "\n",
       "    .dataframe tbody tr th {\n",
       "        vertical-align: top;\n",
       "    }\n",
       "\n",
       "    .dataframe thead th {\n",
       "        text-align: right;\n",
       "    }\n",
       "</style>\n",
       "<table border=\"1\" class=\"dataframe\">\n",
       "  <thead>\n",
       "    <tr style=\"text-align: right;\">\n",
       "      <th></th>\n",
       "      <th>Missing Values</th>\n",
       "      <th>% of Total Values</th>\n",
       "    </tr>\n",
       "  </thead>\n",
       "  <tbody>\n",
       "    <tr>\n",
       "      <th>energy_consumpt_2001</th>\n",
       "      <td>34</td>\n",
       "      <td>0.4</td>\n",
       "    </tr>\n",
       "    <tr>\n",
       "      <th>full_temp_2002</th>\n",
       "      <td>24</td>\n",
       "      <td>0.3</td>\n",
       "    </tr>\n",
       "    <tr>\n",
       "      <th>full_humid_2002</th>\n",
       "      <td>24</td>\n",
       "      <td>0.3</td>\n",
       "    </tr>\n",
       "  </tbody>\n",
       "</table>\n",
       "</div>"
      ],
      "text/plain": [
       "                      Missing Values  % of Total Values\n",
       "energy_consumpt_2001              34                0.4\n",
       "full_temp_2002                    24                0.3\n",
       "full_humid_2002                   24                0.3"
      ]
     },
     "execution_count": 3,
     "metadata": {},
     "output_type": "execute_result"
    }
   ],
   "source": [
    "# Check for missing values\n",
    "\n",
    "# function for checking \n",
    "\n",
    "def missing_values_table(df):\n",
    "    mis_val = df.isna().sum()\n",
    "    mis_val_percent = 100 * df.isna().sum() / len(df)\n",
    "    mis_val_table = pd.concat([mis_val, mis_val_percent], axis=1)\n",
    "    mis_val_table_ren_columns = mis_val_table.rename(\n",
    "    columns = {0 : 'Missing Values', 1 : '% of Total Values'})\n",
    "    mis_val_table_ren_columns = mis_val_table_ren_columns[\n",
    "        mis_val_table_ren_columns.iloc[:,1] != 0].sort_values(\n",
    "    '% of Total Values', ascending=False).round(1)\n",
    "    print (\"There are \" + str(mis_val_table_ren_columns.shape[0]) +\n",
    "            \" columns that have missing values.\")\n",
    "    return mis_val_table_ren_columns\n",
    "\n",
    "missing_values_table(energy_df)"
   ]
  },
  {
   "cell_type": "code",
   "execution_count": 4,
   "id": "7a86418c",
   "metadata": {},
   "outputs": [],
   "source": [
    "#hour column value is changed into date m-d H:M\n",
    "date_col = pd.date_range(\"2001-01-01\", periods=8784, freq=\"H\")#.strftime('%m-%d %H:%M')\n",
    "energy_df['date'] = date_col.values"
   ]
  },
  {
   "cell_type": "code",
   "execution_count": 5,
   "id": "3c8db2c8",
   "metadata": {},
   "outputs": [
    {
     "name": "stdout",
     "output_type": "stream",
     "text": [
      "There are 3 columns that have missing values.\n"
     ]
    },
    {
     "data": {
      "text/html": [
       "<div>\n",
       "<style scoped>\n",
       "    .dataframe tbody tr th:only-of-type {\n",
       "        vertical-align: middle;\n",
       "    }\n",
       "\n",
       "    .dataframe tbody tr th {\n",
       "        vertical-align: top;\n",
       "    }\n",
       "\n",
       "    .dataframe thead th {\n",
       "        text-align: right;\n",
       "    }\n",
       "</style>\n",
       "<table border=\"1\" class=\"dataframe\">\n",
       "  <thead>\n",
       "    <tr style=\"text-align: right;\">\n",
       "      <th></th>\n",
       "      <th>Missing Values</th>\n",
       "      <th>% of Total Values</th>\n",
       "    </tr>\n",
       "  </thead>\n",
       "  <tbody>\n",
       "    <tr>\n",
       "      <th>energy_consumpt_2001</th>\n",
       "      <td>34</td>\n",
       "      <td>0.4</td>\n",
       "    </tr>\n",
       "    <tr>\n",
       "      <th>full_temp_2002</th>\n",
       "      <td>24</td>\n",
       "      <td>0.3</td>\n",
       "    </tr>\n",
       "    <tr>\n",
       "      <th>full_humid_2002</th>\n",
       "      <td>24</td>\n",
       "      <td>0.3</td>\n",
       "    </tr>\n",
       "  </tbody>\n",
       "</table>\n",
       "</div>"
      ],
      "text/plain": [
       "                      Missing Values  % of Total Values\n",
       "energy_consumpt_2001              34                0.4\n",
       "full_temp_2002                    24                0.3\n",
       "full_humid_2002                   24                0.3"
      ]
     },
     "execution_count": 5,
     "metadata": {},
     "output_type": "execute_result"
    }
   ],
   "source": [
    "# Checking missing values\n",
    "\n",
    "missing_values_table(energy_df)"
   ]
  },
  {
   "cell_type": "code",
   "execution_count": 6,
   "id": "d7e4b039",
   "metadata": {},
   "outputs": [
    {
     "data": {
      "text/html": [
       "<div>\n",
       "<style scoped>\n",
       "    .dataframe tbody tr th:only-of-type {\n",
       "        vertical-align: middle;\n",
       "    }\n",
       "\n",
       "    .dataframe tbody tr th {\n",
       "        vertical-align: top;\n",
       "    }\n",
       "\n",
       "    .dataframe thead th {\n",
       "        text-align: right;\n",
       "    }\n",
       "</style>\n",
       "<table border=\"1\" class=\"dataframe\">\n",
       "  <thead>\n",
       "    <tr style=\"text-align: right;\">\n",
       "      <th></th>\n",
       "      <th>Hour</th>\n",
       "      <th>energy_consumpt_2001</th>\n",
       "      <th>energy_consumpt_2002</th>\n",
       "      <th>full_temp_2001</th>\n",
       "      <th>full_humid_2001</th>\n",
       "      <th>full_temp_2002</th>\n",
       "      <th>full_humid_2002</th>\n",
       "    </tr>\n",
       "  </thead>\n",
       "  <tbody>\n",
       "    <tr>\n",
       "      <th>count</th>\n",
       "      <td>8784.000000</td>\n",
       "      <td>8750.000000</td>\n",
       "      <td>8784.000000</td>\n",
       "      <td>8784.000000</td>\n",
       "      <td>8784.00000</td>\n",
       "      <td>8760.000000</td>\n",
       "      <td>8760.000000</td>\n",
       "    </tr>\n",
       "    <tr>\n",
       "      <th>mean</th>\n",
       "      <td>4392.500000</td>\n",
       "      <td>488.754321</td>\n",
       "      <td>764.291985</td>\n",
       "      <td>17.602836</td>\n",
       "      <td>62.17270</td>\n",
       "      <td>18.197500</td>\n",
       "      <td>61.505023</td>\n",
       "    </tr>\n",
       "    <tr>\n",
       "      <th>std</th>\n",
       "      <td>2535.866716</td>\n",
       "      <td>167.554212</td>\n",
       "      <td>242.615520</td>\n",
       "      <td>8.031887</td>\n",
       "      <td>18.47477</td>\n",
       "      <td>7.713689</td>\n",
       "      <td>19.454944</td>\n",
       "    </tr>\n",
       "    <tr>\n",
       "      <th>min</th>\n",
       "      <td>1.000000</td>\n",
       "      <td>-614.175490</td>\n",
       "      <td>-1332.918388</td>\n",
       "      <td>-3.200000</td>\n",
       "      <td>3.00000</td>\n",
       "      <td>0.000000</td>\n",
       "      <td>4.000000</td>\n",
       "    </tr>\n",
       "    <tr>\n",
       "      <th>25%</th>\n",
       "      <td>2196.750000</td>\n",
       "      <td>372.264578</td>\n",
       "      <td>582.391359</td>\n",
       "      <td>11.800000</td>\n",
       "      <td>48.00000</td>\n",
       "      <td>12.066667</td>\n",
       "      <td>46.000000</td>\n",
       "    </tr>\n",
       "    <tr>\n",
       "      <th>50%</th>\n",
       "      <td>4392.500000</td>\n",
       "      <td>493.915280</td>\n",
       "      <td>786.779013</td>\n",
       "      <td>17.400000</td>\n",
       "      <td>65.00000</td>\n",
       "      <td>18.600000</td>\n",
       "      <td>64.000000</td>\n",
       "    </tr>\n",
       "    <tr>\n",
       "      <th>75%</th>\n",
       "      <td>6588.250000</td>\n",
       "      <td>571.766044</td>\n",
       "      <td>904.056715</td>\n",
       "      <td>23.600000</td>\n",
       "      <td>78.00000</td>\n",
       "      <td>24.200000</td>\n",
       "      <td>77.000000</td>\n",
       "    </tr>\n",
       "    <tr>\n",
       "      <th>max</th>\n",
       "      <td>8784.000000</td>\n",
       "      <td>6560.013773</td>\n",
       "      <td>9896.924643</td>\n",
       "      <td>41.000000</td>\n",
       "      <td>100.00000</td>\n",
       "      <td>36.400000</td>\n",
       "      <td>100.000000</td>\n",
       "    </tr>\n",
       "  </tbody>\n",
       "</table>\n",
       "</div>"
      ],
      "text/plain": [
       "              Hour  energy_consumpt_2001  energy_consumpt_2002  \\\n",
       "count  8784.000000           8750.000000           8784.000000   \n",
       "mean   4392.500000            488.754321            764.291985   \n",
       "std    2535.866716            167.554212            242.615520   \n",
       "min       1.000000           -614.175490          -1332.918388   \n",
       "25%    2196.750000            372.264578            582.391359   \n",
       "50%    4392.500000            493.915280            786.779013   \n",
       "75%    6588.250000            571.766044            904.056715   \n",
       "max    8784.000000           6560.013773           9896.924643   \n",
       "\n",
       "       full_temp_2001  full_humid_2001  full_temp_2002  full_humid_2002  \n",
       "count     8784.000000       8784.00000     8760.000000      8760.000000  \n",
       "mean        17.602836         62.17270       18.197500        61.505023  \n",
       "std          8.031887         18.47477        7.713689        19.454944  \n",
       "min         -3.200000          3.00000        0.000000         4.000000  \n",
       "25%         11.800000         48.00000       12.066667        46.000000  \n",
       "50%         17.400000         65.00000       18.600000        64.000000  \n",
       "75%         23.600000         78.00000       24.200000        77.000000  \n",
       "max         41.000000        100.00000       36.400000       100.000000  "
      ]
     },
     "execution_count": 6,
     "metadata": {},
     "output_type": "execute_result"
    }
   ],
   "source": [
    "# Analize variables\n",
    "\n",
    "energy_df.describe()"
   ]
  },
  {
   "cell_type": "code",
   "execution_count": 7,
   "id": "a7802753",
   "metadata": {},
   "outputs": [
    {
     "data": {
      "text/plain": [
       "Hour                             int64\n",
       "energy_consumpt_2001           float64\n",
       "energy_consumpt_2002           float64\n",
       "full_temp_2001                 float64\n",
       "full_humid_2001                float64\n",
       "full_temp_2002                 float64\n",
       "full_humid_2002                float64\n",
       "date                    datetime64[ns]\n",
       "dtype: object"
      ]
     },
     "execution_count": 7,
     "metadata": {},
     "output_type": "execute_result"
    }
   ],
   "source": [
    "# Check datatypes\n",
    "energy_df.dtypes"
   ]
  },
  {
   "cell_type": "code",
   "execution_count": 8,
   "id": "75041066",
   "metadata": {},
   "outputs": [
    {
     "data": {
      "text/html": [
       "<div>\n",
       "<style scoped>\n",
       "    .dataframe tbody tr th:only-of-type {\n",
       "        vertical-align: middle;\n",
       "    }\n",
       "\n",
       "    .dataframe tbody tr th {\n",
       "        vertical-align: top;\n",
       "    }\n",
       "\n",
       "    .dataframe thead th {\n",
       "        text-align: right;\n",
       "    }\n",
       "</style>\n",
       "<table border=\"1\" class=\"dataframe\">\n",
       "  <thead>\n",
       "    <tr style=\"text-align: right;\">\n",
       "      <th></th>\n",
       "      <th>Hour</th>\n",
       "      <th>energy_consumpt_2001</th>\n",
       "      <th>full_temp_2001</th>\n",
       "      <th>full_humid_2001</th>\n",
       "    </tr>\n",
       "  </thead>\n",
       "  <tbody>\n",
       "    <tr>\n",
       "      <th>0</th>\n",
       "      <td>1</td>\n",
       "      <td>631.623161</td>\n",
       "      <td>-0.400000</td>\n",
       "      <td>64.000000</td>\n",
       "    </tr>\n",
       "    <tr>\n",
       "      <th>1</th>\n",
       "      <td>2</td>\n",
       "      <td>534.397104</td>\n",
       "      <td>-0.733333</td>\n",
       "      <td>65.333333</td>\n",
       "    </tr>\n",
       "    <tr>\n",
       "      <th>2</th>\n",
       "      <td>3</td>\n",
       "      <td>453.538785</td>\n",
       "      <td>-1.066667</td>\n",
       "      <td>66.666667</td>\n",
       "    </tr>\n",
       "    <tr>\n",
       "      <th>3</th>\n",
       "      <td>4</td>\n",
       "      <td>400.699718</td>\n",
       "      <td>-1.400000</td>\n",
       "      <td>68.000000</td>\n",
       "    </tr>\n",
       "    <tr>\n",
       "      <th>4</th>\n",
       "      <td>5</td>\n",
       "      <td>378.171092</td>\n",
       "      <td>-1.666667</td>\n",
       "      <td>60.333333</td>\n",
       "    </tr>\n",
       "  </tbody>\n",
       "</table>\n",
       "</div>"
      ],
      "text/plain": [
       "   Hour  energy_consumpt_2001  full_temp_2001  full_humid_2001\n",
       "0     1            631.623161       -0.400000        64.000000\n",
       "1     2            534.397104       -0.733333        65.333333\n",
       "2     3            453.538785       -1.066667        66.666667\n",
       "3     4            400.699718       -1.400000        68.000000\n",
       "4     5            378.171092       -1.666667        60.333333"
      ]
     },
     "execution_count": 8,
     "metadata": {},
     "output_type": "execute_result"
    }
   ],
   "source": [
    "# make distinction between years -2001\n",
    "df_2001=energy_df[['Hour','energy_consumpt_2001','full_temp_2001','full_humid_2001']]\n",
    "df_2001.head()\n"
   ]
  },
  {
   "cell_type": "code",
   "execution_count": 9,
   "id": "0848406d",
   "metadata": {},
   "outputs": [
    {
     "data": {
      "text/html": [
       "<div>\n",
       "<style scoped>\n",
       "    .dataframe tbody tr th:only-of-type {\n",
       "        vertical-align: middle;\n",
       "    }\n",
       "\n",
       "    .dataframe tbody tr th {\n",
       "        vertical-align: top;\n",
       "    }\n",
       "\n",
       "    .dataframe thead th {\n",
       "        text-align: right;\n",
       "    }\n",
       "</style>\n",
       "<table border=\"1\" class=\"dataframe\">\n",
       "  <thead>\n",
       "    <tr style=\"text-align: right;\">\n",
       "      <th></th>\n",
       "      <th>Hour</th>\n",
       "      <th>energy_consumpt_2002</th>\n",
       "      <th>full_temp_2002</th>\n",
       "      <th>full_humid_2002</th>\n",
       "    </tr>\n",
       "  </thead>\n",
       "  <tbody>\n",
       "    <tr>\n",
       "      <th>0</th>\n",
       "      <td>1</td>\n",
       "      <td>835.021567</td>\n",
       "      <td>7.600000</td>\n",
       "      <td>82.000000</td>\n",
       "    </tr>\n",
       "    <tr>\n",
       "      <th>1</th>\n",
       "      <td>2</td>\n",
       "      <td>711.875374</td>\n",
       "      <td>7.733333</td>\n",
       "      <td>78.666667</td>\n",
       "    </tr>\n",
       "    <tr>\n",
       "      <th>2</th>\n",
       "      <td>3</td>\n",
       "      <td>592.673215</td>\n",
       "      <td>7.866667</td>\n",
       "      <td>75.333333</td>\n",
       "    </tr>\n",
       "    <tr>\n",
       "      <th>3</th>\n",
       "      <td>4</td>\n",
       "      <td>526.997961</td>\n",
       "      <td>8.000000</td>\n",
       "      <td>72.000000</td>\n",
       "    </tr>\n",
       "    <tr>\n",
       "      <th>4</th>\n",
       "      <td>5</td>\n",
       "      <td>497.588642</td>\n",
       "      <td>8.333333</td>\n",
       "      <td>69.666667</td>\n",
       "    </tr>\n",
       "  </tbody>\n",
       "</table>\n",
       "</div>"
      ],
      "text/plain": [
       "   Hour  energy_consumpt_2002  full_temp_2002  full_humid_2002\n",
       "0     1            835.021567        7.600000        82.000000\n",
       "1     2            711.875374        7.733333        78.666667\n",
       "2     3            592.673215        7.866667        75.333333\n",
       "3     4            526.997961        8.000000        72.000000\n",
       "4     5            497.588642        8.333333        69.666667"
      ]
     },
     "execution_count": 9,
     "metadata": {},
     "output_type": "execute_result"
    }
   ],
   "source": [
    "# make distinction between years -2002\n",
    "df_2002=energy_df[['Hour','energy_consumpt_2002','full_temp_2002','full_humid_2002']]\n",
    "df_2002.head()"
   ]
  },
  {
   "cell_type": "code",
   "execution_count": 10,
   "id": "5b86c020",
   "metadata": {},
   "outputs": [
    {
     "name": "stdout",
     "output_type": "stream",
     "text": [
      "There are 1 columns that have missing values.\n"
     ]
    },
    {
     "data": {
      "text/html": [
       "<div>\n",
       "<style scoped>\n",
       "    .dataframe tbody tr th:only-of-type {\n",
       "        vertical-align: middle;\n",
       "    }\n",
       "\n",
       "    .dataframe tbody tr th {\n",
       "        vertical-align: top;\n",
       "    }\n",
       "\n",
       "    .dataframe thead th {\n",
       "        text-align: right;\n",
       "    }\n",
       "</style>\n",
       "<table border=\"1\" class=\"dataframe\">\n",
       "  <thead>\n",
       "    <tr style=\"text-align: right;\">\n",
       "      <th></th>\n",
       "      <th>Missing Values</th>\n",
       "      <th>% of Total Values</th>\n",
       "    </tr>\n",
       "  </thead>\n",
       "  <tbody>\n",
       "    <tr>\n",
       "      <th>energy_consumpt_2001</th>\n",
       "      <td>34</td>\n",
       "      <td>0.4</td>\n",
       "    </tr>\n",
       "  </tbody>\n",
       "</table>\n",
       "</div>"
      ],
      "text/plain": [
       "                      Missing Values  % of Total Values\n",
       "energy_consumpt_2001              34                0.4"
      ]
     },
     "execution_count": 10,
     "metadata": {},
     "output_type": "execute_result"
    }
   ],
   "source": [
    "# Null values 2001\n",
    "missing_values_table(df_2001)"
   ]
  },
  {
   "cell_type": "code",
   "execution_count": 11,
   "id": "95b96a07",
   "metadata": {},
   "outputs": [
    {
     "name": "stdout",
     "output_type": "stream",
     "text": [
      "There are 2 columns that have missing values.\n"
     ]
    },
    {
     "data": {
      "text/html": [
       "<div>\n",
       "<style scoped>\n",
       "    .dataframe tbody tr th:only-of-type {\n",
       "        vertical-align: middle;\n",
       "    }\n",
       "\n",
       "    .dataframe tbody tr th {\n",
       "        vertical-align: top;\n",
       "    }\n",
       "\n",
       "    .dataframe thead th {\n",
       "        text-align: right;\n",
       "    }\n",
       "</style>\n",
       "<table border=\"1\" class=\"dataframe\">\n",
       "  <thead>\n",
       "    <tr style=\"text-align: right;\">\n",
       "      <th></th>\n",
       "      <th>Missing Values</th>\n",
       "      <th>% of Total Values</th>\n",
       "    </tr>\n",
       "  </thead>\n",
       "  <tbody>\n",
       "    <tr>\n",
       "      <th>full_temp_2002</th>\n",
       "      <td>24</td>\n",
       "      <td>0.3</td>\n",
       "    </tr>\n",
       "    <tr>\n",
       "      <th>full_humid_2002</th>\n",
       "      <td>24</td>\n",
       "      <td>0.3</td>\n",
       "    </tr>\n",
       "  </tbody>\n",
       "</table>\n",
       "</div>"
      ],
      "text/plain": [
       "                 Missing Values  % of Total Values\n",
       "full_temp_2002               24                0.3\n",
       "full_humid_2002              24                0.3"
      ]
     },
     "execution_count": 11,
     "metadata": {},
     "output_type": "execute_result"
    }
   ],
   "source": [
    "# Null values 2002\n",
    "missing_values_table(df_2002)"
   ]
  },
  {
   "cell_type": "code",
   "execution_count": 12,
   "id": "fd9490e2",
   "metadata": {},
   "outputs": [],
   "source": [
    "# Fill NaN values\n",
    "\n",
    "for index, value in df_2001['energy_consumpt_2001'].items():\n",
    "    if np.isnan(value):\n",
    "        df_2001['energy_consumpt_2001'].at[index] = df_2001['energy_consumpt_2001'].iloc[index-3: index].mean()"
   ]
  },
  {
   "cell_type": "code",
   "execution_count": 13,
   "id": "a344281f",
   "metadata": {},
   "outputs": [
    {
     "data": {
      "text/html": [
       "<div>\n",
       "<style scoped>\n",
       "    .dataframe tbody tr th:only-of-type {\n",
       "        vertical-align: middle;\n",
       "    }\n",
       "\n",
       "    .dataframe tbody tr th {\n",
       "        vertical-align: top;\n",
       "    }\n",
       "\n",
       "    .dataframe thead th {\n",
       "        text-align: right;\n",
       "    }\n",
       "</style>\n",
       "<table border=\"1\" class=\"dataframe\">\n",
       "  <thead>\n",
       "    <tr style=\"text-align: right;\">\n",
       "      <th></th>\n",
       "      <th>Hour</th>\n",
       "      <th>energy_consumpt_2001</th>\n",
       "      <th>full_temp_2001</th>\n",
       "      <th>full_humid_2001</th>\n",
       "    </tr>\n",
       "  </thead>\n",
       "  <tbody>\n",
       "  </tbody>\n",
       "</table>\n",
       "</div>"
      ],
      "text/plain": [
       "Empty DataFrame\n",
       "Columns: [Hour, energy_consumpt_2001, full_temp_2001, full_humid_2001]\n",
       "Index: []"
      ]
     },
     "execution_count": 13,
     "metadata": {},
     "output_type": "execute_result"
    }
   ],
   "source": [
    "df_2001[df_2001['energy_consumpt_2001'].isnull()]"
   ]
  },
  {
   "cell_type": "code",
   "execution_count": 14,
   "id": "b57ea050",
   "metadata": {},
   "outputs": [
    {
     "name": "stderr",
     "output_type": "stream",
     "text": [
      "C:\\Users\\David Aguilar\\anaconda3\\envs\\PythonData\\lib\\site-packages\\ipykernel_launcher.py:1: SettingWithCopyWarning: \n",
      "A value is trying to be set on a copy of a slice from a DataFrame.\n",
      "Try using .loc[row_indexer,col_indexer] = value instead\n",
      "\n",
      "See the caveats in the documentation: https://pandas.pydata.org/pandas-docs/stable/user_guide/indexing.html#returning-a-view-versus-a-copy\n",
      "  \"\"\"Entry point for launching an IPython kernel.\n",
      "C:\\Users\\David Aguilar\\anaconda3\\envs\\PythonData\\lib\\site-packages\\ipykernel_launcher.py:3: SettingWithCopyWarning: \n",
      "A value is trying to be set on a copy of a slice from a DataFrame\n",
      "\n",
      "See the caveats in the documentation: https://pandas.pydata.org/pandas-docs/stable/user_guide/indexing.html#returning-a-view-versus-a-copy\n",
      "  This is separate from the ipykernel package so we can avoid doing imports until\n"
     ]
    }
   ],
   "source": [
    "df_2001['energy_consumpt_2001'] = np.where(df_2001['Hour'] > 8760, np.nan, df_2001['energy_consumpt_2001'])\n",
    "# df_2001[df_2001['energy_consumpt_2001'].isnull()]\n",
    "df_2001.dropna(0,inplace=True)"
   ]
  },
  {
   "cell_type": "code",
   "execution_count": 15,
   "id": "945bee30",
   "metadata": {},
   "outputs": [
    {
     "name": "stderr",
     "output_type": "stream",
     "text": [
      "C:\\Users\\David Aguilar\\anaconda3\\envs\\PythonData\\lib\\site-packages\\ipykernel_launcher.py:1: SettingWithCopyWarning: \n",
      "A value is trying to be set on a copy of a slice from a DataFrame\n",
      "\n",
      "See the caveats in the documentation: https://pandas.pydata.org/pandas-docs/stable/user_guide/indexing.html#returning-a-view-versus-a-copy\n",
      "  \"\"\"Entry point for launching an IPython kernel.\n"
     ]
    }
   ],
   "source": [
    "df_2002.dropna(0,inplace=True)"
   ]
  },
  {
   "cell_type": "code",
   "execution_count": 16,
   "id": "72d9cf99",
   "metadata": {},
   "outputs": [
    {
     "data": {
      "text/plain": [
       "<AxesSubplot:>"
      ]
     },
     "execution_count": 16,
     "metadata": {},
     "output_type": "execute_result"
    },
    {
     "data": {
      "image/png": "[encoded data removed]",
      "text/plain": [
       "<Figure size 432x288 with 1 Axes>"
      ]
     },
     "metadata": {
      "needs_background": "light"
     },
     "output_type": "display_data"
    }
   ],
   "source": [
    "#Outliers 2001\n",
    "\n",
    "df_2001.boxplot(column=['energy_consumpt_2001','full_temp_2001','full_humid_2001'])\n"
   ]
  },
  {
   "cell_type": "code",
   "execution_count": 17,
   "id": "ffffeb11",
   "metadata": {},
   "outputs": [
    {
     "data": {
      "text/plain": [
       "<AxesSubplot:>"
      ]
     },
     "execution_count": 17,
     "metadata": {},
     "output_type": "execute_result"
    },
    {
     "data": {
      "image/png": "[encoded data removed]",
      "text/plain": [
       "<Figure size 432x288 with 1 Axes>"
      ]
     },
     "metadata": {
      "needs_background": "light"
     },
     "output_type": "display_data"
    }
   ],
   "source": [
    "# Outliers 2002\n",
    "\n",
    "df_2002.boxplot(column=['energy_consumpt_2002','full_temp_2002','full_humid_2002'])\n"
   ]
  },
  {
   "cell_type": "code",
   "execution_count": 18,
   "id": "67580916",
   "metadata": {},
   "outputs": [
    {
     "data": {
      "text/plain": [
       "<AxesSubplot:>"
      ]
     },
     "execution_count": 18,
     "metadata": {},
     "output_type": "execute_result"
    },
    {
     "data": {
      "image/png": "[encoded data removed]",
      "text/plain": [
       "<Figure size 432x288 with 1 Axes>"
      ]
     },
     "metadata": {
      "needs_background": "light"
     },
     "output_type": "display_data"
    }
   ],
   "source": [
    "# 2001 removed outliers by using 0.01 and 0.99 percentiles\n",
    "\n",
    "df_2001=df_2001[(df_2001['energy_consumpt_2001'] < np.percentile(df_2001['energy_consumpt_2001'],[99])[0]) & (df_2001['energy_consumpt_2001'] > np.percentile(df_2001['energy_consumpt_2001'],[1])[0]) ]\n",
    "df_2001.boxplot(column=['energy_consumpt_2001','full_temp_2001','full_humid_2001'])\n"
   ]
  },
  {
   "cell_type": "code",
   "execution_count": 19,
   "id": "e77a555c",
   "metadata": {},
   "outputs": [
    {
     "data": {
      "text/plain": [
       "<AxesSubplot:>"
      ]
     },
     "execution_count": 19,
     "metadata": {},
     "output_type": "execute_result"
    },
    {
     "data": {
      "image/png": "[encoded data removed]",
      "text/plain": [
       "<Figure size 432x288 with 1 Axes>"
      ]
     },
     "metadata": {
      "needs_background": "light"
     },
     "output_type": "display_data"
    }
   ],
   "source": [
    "# 2002 removed outliers by using 0.01 and 0.99 percentiles\n",
    "\n",
    "df_2002=df_2002[(df_2002['energy_consumpt_2002'] < np.percentile(df_2002['energy_consumpt_2002'],[99])[0]) & (df_2002['energy_consumpt_2002'] > np.percentile(df_2002['energy_consumpt_2002'],[1])[0]) ]\n",
    "df_2002.boxplot(column=['energy_consumpt_2002','full_temp_2002','full_humid_2002'])\n"
   ]
  },
  {
   "cell_type": "code",
   "execution_count": 20,
   "id": "69fc5e00",
   "metadata": {},
   "outputs": [
    {
     "data": {
      "text/html": [
       "<div>\n",
       "<style scoped>\n",
       "    .dataframe tbody tr th:only-of-type {\n",
       "        vertical-align: middle;\n",
       "    }\n",
       "\n",
       "    .dataframe tbody tr th {\n",
       "        vertical-align: top;\n",
       "    }\n",
       "\n",
       "    .dataframe thead th {\n",
       "        text-align: right;\n",
       "    }\n",
       "</style>\n",
       "<table border=\"1\" class=\"dataframe\">\n",
       "  <thead>\n",
       "    <tr style=\"text-align: right;\">\n",
       "      <th></th>\n",
       "      <th>Hour</th>\n",
       "      <th>energy_consumpt_2001</th>\n",
       "      <th>full_temp_2001</th>\n",
       "      <th>full_humid_2001</th>\n",
       "    </tr>\n",
       "  </thead>\n",
       "  <tbody>\n",
       "    <tr>\n",
       "      <th>0</th>\n",
       "      <td>0.000</td>\n",
       "      <td>0.655</td>\n",
       "      <td>0.050</td>\n",
       "      <td>0.629</td>\n",
       "    </tr>\n",
       "    <tr>\n",
       "      <th>1</th>\n",
       "      <td>0.000</td>\n",
       "      <td>0.487</td>\n",
       "      <td>0.043</td>\n",
       "      <td>0.643</td>\n",
       "    </tr>\n",
       "    <tr>\n",
       "      <th>2</th>\n",
       "      <td>0.000</td>\n",
       "      <td>0.346</td>\n",
       "      <td>0.035</td>\n",
       "      <td>0.656</td>\n",
       "    </tr>\n",
       "    <tr>\n",
       "      <th>3</th>\n",
       "      <td>0.000</td>\n",
       "      <td>0.254</td>\n",
       "      <td>0.028</td>\n",
       "      <td>0.670</td>\n",
       "    </tr>\n",
       "    <tr>\n",
       "      <th>4</th>\n",
       "      <td>0.000</td>\n",
       "      <td>0.215</td>\n",
       "      <td>0.021</td>\n",
       "      <td>0.591</td>\n",
       "    </tr>\n",
       "    <tr>\n",
       "      <th>...</th>\n",
       "      <td>...</td>\n",
       "      <td>...</td>\n",
       "      <td>...</td>\n",
       "      <td>...</td>\n",
       "    </tr>\n",
       "    <tr>\n",
       "      <th>8749</th>\n",
       "      <td>0.999</td>\n",
       "      <td>0.917</td>\n",
       "      <td>0.205</td>\n",
       "      <td>0.271</td>\n",
       "    </tr>\n",
       "    <tr>\n",
       "      <th>8750</th>\n",
       "      <td>0.999</td>\n",
       "      <td>0.924</td>\n",
       "      <td>0.190</td>\n",
       "      <td>0.296</td>\n",
       "    </tr>\n",
       "    <tr>\n",
       "      <th>8751</th>\n",
       "      <td>0.999</td>\n",
       "      <td>0.965</td>\n",
       "      <td>0.174</td>\n",
       "      <td>0.320</td>\n",
       "    </tr>\n",
       "    <tr>\n",
       "      <th>8758</th>\n",
       "      <td>1.000</td>\n",
       "      <td>0.845</td>\n",
       "      <td>0.058</td>\n",
       "      <td>0.526</td>\n",
       "    </tr>\n",
       "    <tr>\n",
       "      <th>8759</th>\n",
       "      <td>1.000</td>\n",
       "      <td>0.623</td>\n",
       "      <td>0.047</td>\n",
       "      <td>0.567</td>\n",
       "    </tr>\n",
       "  </tbody>\n",
       "</table>\n",
       "<p>8584 rows × 4 columns</p>\n",
       "</div>"
      ],
      "text/plain": [
       "       Hour  energy_consumpt_2001  full_temp_2001  full_humid_2001\n",
       "0     0.000                 0.655           0.050            0.629\n",
       "1     0.000                 0.487           0.043            0.643\n",
       "2     0.000                 0.346           0.035            0.656\n",
       "3     0.000                 0.254           0.028            0.670\n",
       "4     0.000                 0.215           0.021            0.591\n",
       "...     ...                   ...             ...              ...\n",
       "8749  0.999                 0.917           0.205            0.271\n",
       "8750  0.999                 0.924           0.190            0.296\n",
       "8751  0.999                 0.965           0.174            0.320\n",
       "8758  1.000                 0.845           0.058            0.526\n",
       "8759  1.000                 0.623           0.047            0.567\n",
       "\n",
       "[8584 rows x 4 columns]"
      ]
     },
     "execution_count": 20,
     "metadata": {},
     "output_type": "execute_result"
    }
   ],
   "source": [
    "# Normalization 2001\n",
    "\n",
    "minmax_normalized_2001_df = (df_2001-df_2001.min())/(df_2001.max()-df_2001.min())\n",
    "minmax_normalized_2001_df = np.round(minmax_normalized_2001_df,decimals = 3)\n",
    "minmax_normalized_2001_df"
   ]
  },
  {
   "cell_type": "code",
   "execution_count": 21,
   "id": "6c6228dd",
   "metadata": {},
   "outputs": [
    {
     "data": {
      "text/html": [
       "<div>\n",
       "<style scoped>\n",
       "    .dataframe tbody tr th:only-of-type {\n",
       "        vertical-align: middle;\n",
       "    }\n",
       "\n",
       "    .dataframe tbody tr th {\n",
       "        vertical-align: top;\n",
       "    }\n",
       "\n",
       "    .dataframe thead th {\n",
       "        text-align: right;\n",
       "    }\n",
       "</style>\n",
       "<table border=\"1\" class=\"dataframe\">\n",
       "  <thead>\n",
       "    <tr style=\"text-align: right;\">\n",
       "      <th></th>\n",
       "      <th>Hour</th>\n",
       "      <th>energy_consumpt_2002</th>\n",
       "      <th>full_temp_2002</th>\n",
       "      <th>full_humid_2002</th>\n",
       "    </tr>\n",
       "  </thead>\n",
       "  <tbody>\n",
       "    <tr>\n",
       "      <th>0</th>\n",
       "      <td>0.000</td>\n",
       "      <td>0.505</td>\n",
       "      <td>0.209</td>\n",
       "      <td>0.812</td>\n",
       "    </tr>\n",
       "    <tr>\n",
       "      <th>1</th>\n",
       "      <td>0.000</td>\n",
       "      <td>0.357</td>\n",
       "      <td>0.212</td>\n",
       "      <td>0.778</td>\n",
       "    </tr>\n",
       "    <tr>\n",
       "      <th>2</th>\n",
       "      <td>0.000</td>\n",
       "      <td>0.213</td>\n",
       "      <td>0.216</td>\n",
       "      <td>0.743</td>\n",
       "    </tr>\n",
       "    <tr>\n",
       "      <th>3</th>\n",
       "      <td>0.000</td>\n",
       "      <td>0.134</td>\n",
       "      <td>0.220</td>\n",
       "      <td>0.708</td>\n",
       "    </tr>\n",
       "    <tr>\n",
       "      <th>4</th>\n",
       "      <td>0.000</td>\n",
       "      <td>0.099</td>\n",
       "      <td>0.229</td>\n",
       "      <td>0.684</td>\n",
       "    </tr>\n",
       "    <tr>\n",
       "      <th>...</th>\n",
       "      <td>...</td>\n",
       "      <td>...</td>\n",
       "      <td>...</td>\n",
       "      <td>...</td>\n",
       "    </tr>\n",
       "    <tr>\n",
       "      <th>8751</th>\n",
       "      <td>0.999</td>\n",
       "      <td>0.983</td>\n",
       "      <td>0.286</td>\n",
       "      <td>0.333</td>\n",
       "    </tr>\n",
       "    <tr>\n",
       "      <th>8756</th>\n",
       "      <td>1.000</td>\n",
       "      <td>0.924</td>\n",
       "      <td>0.139</td>\n",
       "      <td>0.656</td>\n",
       "    </tr>\n",
       "    <tr>\n",
       "      <th>8757</th>\n",
       "      <td>1.000</td>\n",
       "      <td>0.766</td>\n",
       "      <td>0.115</td>\n",
       "      <td>0.708</td>\n",
       "    </tr>\n",
       "    <tr>\n",
       "      <th>8758</th>\n",
       "      <td>1.000</td>\n",
       "      <td>0.685</td>\n",
       "      <td>0.092</td>\n",
       "      <td>0.760</td>\n",
       "    </tr>\n",
       "    <tr>\n",
       "      <th>8759</th>\n",
       "      <td>1.000</td>\n",
       "      <td>0.617</td>\n",
       "      <td>0.068</td>\n",
       "      <td>0.812</td>\n",
       "    </tr>\n",
       "  </tbody>\n",
       "</table>\n",
       "<p>8584 rows × 4 columns</p>\n",
       "</div>"
      ],
      "text/plain": [
       "       Hour  energy_consumpt_2002  full_temp_2002  full_humid_2002\n",
       "0     0.000                 0.505           0.209            0.812\n",
       "1     0.000                 0.357           0.212            0.778\n",
       "2     0.000                 0.213           0.216            0.743\n",
       "3     0.000                 0.134           0.220            0.708\n",
       "4     0.000                 0.099           0.229            0.684\n",
       "...     ...                   ...             ...              ...\n",
       "8751  0.999                 0.983           0.286            0.333\n",
       "8756  1.000                 0.924           0.139            0.656\n",
       "8757  1.000                 0.766           0.115            0.708\n",
       "8758  1.000                 0.685           0.092            0.760\n",
       "8759  1.000                 0.617           0.068            0.812\n",
       "\n",
       "[8584 rows x 4 columns]"
      ]
     },
     "execution_count": 21,
     "metadata": {},
     "output_type": "execute_result"
    }
   ],
   "source": [
    "# Normalization 2002\n",
    "\n",
    "minmax_normalized_2002_df = (df_2002-df_2002.min())/(df_2002.max()-df_2002.min())\n",
    "minmax_normalized_2002_df = np.round(minmax_normalized_2002_df,decimals = 3)\n",
    "minmax_normalized_2002_df"
   ]
  },
  {
   "cell_type": "code",
   "execution_count": 22,
   "id": "075fb065",
   "metadata": {},
   "outputs": [],
   "source": [
    "#hour column value is changed into date m-d H:M\n",
    "date_col = pd.date_range(\"2001-01-01\", periods=8584, freq=\"H\")\n",
    "df_2001['Hour'] = date_col.values\n",
    "df_2001.rename(columns = {'Hour':'date'}, inplace = True)"
   ]
  },
  {
   "cell_type": "code",
   "execution_count": 23,
   "id": "44d04029",
   "metadata": {},
   "outputs": [
    {
     "name": "stderr",
     "output_type": "stream",
     "text": [
      "C:\\Users\\David Aguilar\\anaconda3\\envs\\PythonData\\lib\\site-packages\\ipykernel_launcher.py:6: FutureWarning: Series.dt.weekofyear and Series.dt.week have been deprecated.  Please use Series.dt.isocalendar().week instead.\n",
      "  \n"
     ]
    },
    {
     "data": {
      "text/html": [
       "<div>\n",
       "<style scoped>\n",
       "    .dataframe tbody tr th:only-of-type {\n",
       "        vertical-align: middle;\n",
       "    }\n",
       "\n",
       "    .dataframe tbody tr th {\n",
       "        vertical-align: top;\n",
       "    }\n",
       "\n",
       "    .dataframe thead th {\n",
       "        text-align: right;\n",
       "    }\n",
       "</style>\n",
       "<table border=\"1\" class=\"dataframe\">\n",
       "  <thead>\n",
       "    <tr style=\"text-align: right;\">\n",
       "      <th></th>\n",
       "      <th>date</th>\n",
       "      <th>energy_consumpt_2001</th>\n",
       "      <th>full_temp_2001</th>\n",
       "      <th>full_humid_2001</th>\n",
       "      <th>hour</th>\n",
       "      <th>day</th>\n",
       "      <th>week</th>\n",
       "    </tr>\n",
       "  </thead>\n",
       "  <tbody>\n",
       "    <tr>\n",
       "      <th>0</th>\n",
       "      <td>2001-01-01 00:00:00</td>\n",
       "      <td>631.623161</td>\n",
       "      <td>-0.400000</td>\n",
       "      <td>64.000000</td>\n",
       "      <td>0</td>\n",
       "      <td>1</td>\n",
       "      <td>1</td>\n",
       "    </tr>\n",
       "    <tr>\n",
       "      <th>1</th>\n",
       "      <td>2001-01-01 01:00:00</td>\n",
       "      <td>534.397104</td>\n",
       "      <td>-0.733333</td>\n",
       "      <td>65.333333</td>\n",
       "      <td>1</td>\n",
       "      <td>1</td>\n",
       "      <td>1</td>\n",
       "    </tr>\n",
       "    <tr>\n",
       "      <th>2</th>\n",
       "      <td>2001-01-01 02:00:00</td>\n",
       "      <td>453.538785</td>\n",
       "      <td>-1.066667</td>\n",
       "      <td>66.666667</td>\n",
       "      <td>2</td>\n",
       "      <td>1</td>\n",
       "      <td>1</td>\n",
       "    </tr>\n",
       "    <tr>\n",
       "      <th>3</th>\n",
       "      <td>2001-01-01 03:00:00</td>\n",
       "      <td>400.699718</td>\n",
       "      <td>-1.400000</td>\n",
       "      <td>68.000000</td>\n",
       "      <td>3</td>\n",
       "      <td>1</td>\n",
       "      <td>1</td>\n",
       "    </tr>\n",
       "    <tr>\n",
       "      <th>4</th>\n",
       "      <td>2001-01-01 04:00:00</td>\n",
       "      <td>378.171092</td>\n",
       "      <td>-1.666667</td>\n",
       "      <td>60.333333</td>\n",
       "      <td>4</td>\n",
       "      <td>1</td>\n",
       "      <td>1</td>\n",
       "    </tr>\n",
       "  </tbody>\n",
       "</table>\n",
       "</div>"
      ],
      "text/plain": [
       "                 date  energy_consumpt_2001  full_temp_2001  full_humid_2001  \\\n",
       "0 2001-01-01 00:00:00            631.623161       -0.400000        64.000000   \n",
       "1 2001-01-01 01:00:00            534.397104       -0.733333        65.333333   \n",
       "2 2001-01-01 02:00:00            453.538785       -1.066667        66.666667   \n",
       "3 2001-01-01 03:00:00            400.699718       -1.400000        68.000000   \n",
       "4 2001-01-01 04:00:00            378.171092       -1.666667        60.333333   \n",
       "\n",
       "   hour  day  week  \n",
       "0     0    1     1  \n",
       "1     1    1     1  \n",
       "2     2    1     1  \n",
       "3     3    1     1  \n",
       "4     4    1     1  "
      ]
     },
     "execution_count": 23,
     "metadata": {},
     "output_type": "execute_result"
    }
   ],
   "source": [
    "#extract from date hour, day, week, groups data - 2001\n",
    "hour_2001 = df_2001\n",
    "\n",
    "hour_2001['hour'] = hour_2001.date.dt.hour\n",
    "hour_2001['day'] = hour_2001.date.dt.day\n",
    "hour_2001['week'] = hour_2001.date.dt.week\n",
    "hour_2001[\"hour\"] = hour_2001[\"date\"].apply(lambda x: x.hour)\n",
    "hour_2001[\"day\"] = hour_2001[\"date\"].apply(lambda x: x.day)\n",
    "hour_2001[\"week\"] = hour_2001[\"date\"].apply(lambda x: x.week)\n",
    "\n",
    "hour_2001.head(5)"
   ]
  },
  {
   "cell_type": "code",
   "execution_count": 24,
   "id": "e7f89a58",
   "metadata": {},
   "outputs": [
    {
     "data": {
      "text/html": [
       "<div>\n",
       "<style scoped>\n",
       "    .dataframe tbody tr th:only-of-type {\n",
       "        vertical-align: middle;\n",
       "    }\n",
       "\n",
       "    .dataframe tbody tr th {\n",
       "        vertical-align: top;\n",
       "    }\n",
       "\n",
       "    .dataframe thead th {\n",
       "        text-align: right;\n",
       "    }\n",
       "</style>\n",
       "<table border=\"1\" class=\"dataframe\">\n",
       "  <thead>\n",
       "    <tr style=\"text-align: right;\">\n",
       "      <th></th>\n",
       "      <th>energy_consumpt_2001</th>\n",
       "      <th>full_temp_2001</th>\n",
       "      <th>full_humid_2001</th>\n",
       "    </tr>\n",
       "  </thead>\n",
       "  <tbody>\n",
       "    <tr>\n",
       "      <th>count</th>\n",
       "      <td>31.000000</td>\n",
       "      <td>31.000000</td>\n",
       "      <td>31.000000</td>\n",
       "    </tr>\n",
       "    <tr>\n",
       "      <th>mean</th>\n",
       "      <td>485.389319</td>\n",
       "      <td>17.826815</td>\n",
       "      <td>62.221850</td>\n",
       "    </tr>\n",
       "    <tr>\n",
       "      <th>std</th>\n",
       "      <td>4.815735</td>\n",
       "      <td>0.773616</td>\n",
       "      <td>3.161998</td>\n",
       "    </tr>\n",
       "    <tr>\n",
       "      <th>min</th>\n",
       "      <td>473.515672</td>\n",
       "      <td>16.245602</td>\n",
       "      <td>56.303241</td>\n",
       "    </tr>\n",
       "    <tr>\n",
       "      <th>25%</th>\n",
       "      <td>481.904687</td>\n",
       "      <td>17.386516</td>\n",
       "      <td>59.841216</td>\n",
       "    </tr>\n",
       "    <tr>\n",
       "      <th>50%</th>\n",
       "      <td>485.096425</td>\n",
       "      <td>17.694907</td>\n",
       "      <td>62.040509</td>\n",
       "    </tr>\n",
       "    <tr>\n",
       "      <th>75%</th>\n",
       "      <td>489.561614</td>\n",
       "      <td>18.255093</td>\n",
       "      <td>64.420139</td>\n",
       "    </tr>\n",
       "    <tr>\n",
       "      <th>max</th>\n",
       "      <td>493.878547</td>\n",
       "      <td>20.441898</td>\n",
       "      <td>68.911111</td>\n",
       "    </tr>\n",
       "  </tbody>\n",
       "</table>\n",
       "</div>"
      ],
      "text/plain": [
       "       energy_consumpt_2001  full_temp_2001  full_humid_2001\n",
       "count             31.000000       31.000000        31.000000\n",
       "mean             485.389319       17.826815        62.221850\n",
       "std                4.815735        0.773616         3.161998\n",
       "min              473.515672       16.245602        56.303241\n",
       "25%              481.904687       17.386516        59.841216\n",
       "50%              485.096425       17.694907        62.040509\n",
       "75%              489.561614       18.255093        64.420139\n",
       "max              493.878547       20.441898        68.911111"
      ]
     },
     "execution_count": 24,
     "metadata": {},
     "output_type": "execute_result"
    }
   ],
   "source": [
    "#calculates all metrics on a hour, day, week level\n",
    "energy_hourly_2001 = hour_2001.groupby(['hour']).mean().drop(columns=['day' ,'week'])\n",
    "energy_daily_2001 = hour_2001.groupby(['day' ]).mean().drop(columns=['hour','week'])\n",
    "energy_weekly_2001 = hour_2001.groupby(['week']).mean().drop(columns=['hour','day'])\n",
    "\n",
    "energy_daily_2001.describe()"
   ]
  },
  {
   "cell_type": "code",
   "execution_count": 25,
   "id": "feca651d",
   "metadata": {},
   "outputs": [],
   "source": [
    "#hour column value is changed into date m-d H:M\n",
    "date_col = pd.date_range(\"2001-01-01\", periods=8584, freq=\"H\")\n",
    "df_2002['Hour'] = date_col.values\n",
    "df_2002.rename(columns = {'Hour':'date'}, inplace = True)"
   ]
  },
  {
   "cell_type": "code",
   "execution_count": 26,
   "id": "914b388d",
   "metadata": {},
   "outputs": [
    {
     "name": "stderr",
     "output_type": "stream",
     "text": [
      "C:\\Users\\David Aguilar\\anaconda3\\envs\\PythonData\\lib\\site-packages\\ipykernel_launcher.py:6: FutureWarning: Series.dt.weekofyear and Series.dt.week have been deprecated.  Please use Series.dt.isocalendar().week instead.\n",
      "  \n"
     ]
    },
    {
     "data": {
      "text/html": [
       "<div>\n",
       "<style scoped>\n",
       "    .dataframe tbody tr th:only-of-type {\n",
       "        vertical-align: middle;\n",
       "    }\n",
       "\n",
       "    .dataframe tbody tr th {\n",
       "        vertical-align: top;\n",
       "    }\n",
       "\n",
       "    .dataframe thead th {\n",
       "        text-align: right;\n",
       "    }\n",
       "</style>\n",
       "<table border=\"1\" class=\"dataframe\">\n",
       "  <thead>\n",
       "    <tr style=\"text-align: right;\">\n",
       "      <th></th>\n",
       "      <th>date</th>\n",
       "      <th>energy_consumpt_2002</th>\n",
       "      <th>full_temp_2002</th>\n",
       "      <th>full_humid_2002</th>\n",
       "      <th>hour</th>\n",
       "      <th>day</th>\n",
       "      <th>week</th>\n",
       "    </tr>\n",
       "  </thead>\n",
       "  <tbody>\n",
       "    <tr>\n",
       "      <th>0</th>\n",
       "      <td>2001-01-01 00:00:00</td>\n",
       "      <td>835.021567</td>\n",
       "      <td>7.600000</td>\n",
       "      <td>82.000000</td>\n",
       "      <td>0</td>\n",
       "      <td>1</td>\n",
       "      <td>1</td>\n",
       "    </tr>\n",
       "    <tr>\n",
       "      <th>1</th>\n",
       "      <td>2001-01-01 01:00:00</td>\n",
       "      <td>711.875374</td>\n",
       "      <td>7.733333</td>\n",
       "      <td>78.666667</td>\n",
       "      <td>1</td>\n",
       "      <td>1</td>\n",
       "      <td>1</td>\n",
       "    </tr>\n",
       "    <tr>\n",
       "      <th>2</th>\n",
       "      <td>2001-01-01 02:00:00</td>\n",
       "      <td>592.673215</td>\n",
       "      <td>7.866667</td>\n",
       "      <td>75.333333</td>\n",
       "      <td>2</td>\n",
       "      <td>1</td>\n",
       "      <td>1</td>\n",
       "    </tr>\n",
       "    <tr>\n",
       "      <th>3</th>\n",
       "      <td>2001-01-01 03:00:00</td>\n",
       "      <td>526.997961</td>\n",
       "      <td>8.000000</td>\n",
       "      <td>72.000000</td>\n",
       "      <td>3</td>\n",
       "      <td>1</td>\n",
       "      <td>1</td>\n",
       "    </tr>\n",
       "    <tr>\n",
       "      <th>4</th>\n",
       "      <td>2001-01-01 04:00:00</td>\n",
       "      <td>497.588642</td>\n",
       "      <td>8.333333</td>\n",
       "      <td>69.666667</td>\n",
       "      <td>4</td>\n",
       "      <td>1</td>\n",
       "      <td>1</td>\n",
       "    </tr>\n",
       "  </tbody>\n",
       "</table>\n",
       "</div>"
      ],
      "text/plain": [
       "                 date  energy_consumpt_2002  full_temp_2002  full_humid_2002  \\\n",
       "0 2001-01-01 00:00:00            835.021567        7.600000        82.000000   \n",
       "1 2001-01-01 01:00:00            711.875374        7.733333        78.666667   \n",
       "2 2001-01-01 02:00:00            592.673215        7.866667        75.333333   \n",
       "3 2001-01-01 03:00:00            526.997961        8.000000        72.000000   \n",
       "4 2001-01-01 04:00:00            497.588642        8.333333        69.666667   \n",
       "\n",
       "   hour  day  week  \n",
       "0     0    1     1  \n",
       "1     1    1     1  \n",
       "2     2    1     1  \n",
       "3     3    1     1  \n",
       "4     4    1     1  "
      ]
     },
     "execution_count": 26,
     "metadata": {},
     "output_type": "execute_result"
    }
   ],
   "source": [
    "#extract from date hour, day, week, groups data - 2001\n",
    "hour_2002 = df_2002\n",
    "\n",
    "hour_2002['hour'] = hour_2002.date.dt.hour\n",
    "hour_2002['day'] = hour_2002.date.dt.day\n",
    "hour_2002['week'] = hour_2002.date.dt.week\n",
    "hour_2002[\"hour\"] = hour_2002[\"date\"].apply(lambda x: x.hour)\n",
    "hour_2002[\"day\"] = hour_2002[\"date\"].apply(lambda x: x.day)\n",
    "hour_2002[\"week\"] = hour_2002[\"date\"].apply(lambda x: x.week)\n",
    "\n",
    "hour_2002.head(5)"
   ]
  },
  {
   "cell_type": "code",
   "execution_count": 27,
   "id": "b6744c1d",
   "metadata": {},
   "outputs": [
    {
     "data": {
      "text/html": [
       "<div>\n",
       "<style scoped>\n",
       "    .dataframe tbody tr th:only-of-type {\n",
       "        vertical-align: middle;\n",
       "    }\n",
       "\n",
       "    .dataframe tbody tr th {\n",
       "        vertical-align: top;\n",
       "    }\n",
       "\n",
       "    .dataframe thead th {\n",
       "        text-align: right;\n",
       "    }\n",
       "</style>\n",
       "<table border=\"1\" class=\"dataframe\">\n",
       "  <thead>\n",
       "    <tr style=\"text-align: right;\">\n",
       "      <th></th>\n",
       "      <th>energy_consumpt_2002</th>\n",
       "      <th>full_temp_2002</th>\n",
       "      <th>full_humid_2002</th>\n",
       "    </tr>\n",
       "  </thead>\n",
       "  <tbody>\n",
       "    <tr>\n",
       "      <th>count</th>\n",
       "      <td>31.000000</td>\n",
       "      <td>31.000000</td>\n",
       "      <td>31.000000</td>\n",
       "    </tr>\n",
       "    <tr>\n",
       "      <th>mean</th>\n",
       "      <td>764.137236</td>\n",
       "      <td>18.360925</td>\n",
       "      <td>61.302811</td>\n",
       "    </tr>\n",
       "    <tr>\n",
       "      <th>std</th>\n",
       "      <td>11.031691</td>\n",
       "      <td>1.237512</td>\n",
       "      <td>2.501858</td>\n",
       "    </tr>\n",
       "    <tr>\n",
       "      <th>min</th>\n",
       "      <td>736.073690</td>\n",
       "      <td>16.121991</td>\n",
       "      <td>56.887626</td>\n",
       "    </tr>\n",
       "    <tr>\n",
       "      <th>25%</th>\n",
       "      <td>757.361924</td>\n",
       "      <td>17.577315</td>\n",
       "      <td>59.440394</td>\n",
       "    </tr>\n",
       "    <tr>\n",
       "      <th>50%</th>\n",
       "      <td>762.114750</td>\n",
       "      <td>18.452315</td>\n",
       "      <td>60.891414</td>\n",
       "    </tr>\n",
       "    <tr>\n",
       "      <th>75%</th>\n",
       "      <td>769.624391</td>\n",
       "      <td>19.104745</td>\n",
       "      <td>63.037300</td>\n",
       "    </tr>\n",
       "    <tr>\n",
       "      <th>max</th>\n",
       "      <td>784.460736</td>\n",
       "      <td>20.690783</td>\n",
       "      <td>65.900463</td>\n",
       "    </tr>\n",
       "  </tbody>\n",
       "</table>\n",
       "</div>"
      ],
      "text/plain": [
       "       energy_consumpt_2002  full_temp_2002  full_humid_2002\n",
       "count             31.000000       31.000000        31.000000\n",
       "mean             764.137236       18.360925        61.302811\n",
       "std               11.031691        1.237512         2.501858\n",
       "min              736.073690       16.121991        56.887626\n",
       "25%              757.361924       17.577315        59.440394\n",
       "50%              762.114750       18.452315        60.891414\n",
       "75%              769.624391       19.104745        63.037300\n",
       "max              784.460736       20.690783        65.900463"
      ]
     },
     "execution_count": 27,
     "metadata": {},
     "output_type": "execute_result"
    }
   ],
   "source": [
    "#calculates all metrics on a hour, day, week level\n",
    "energy_hourly_2002 = hour_2002.groupby(['hour']).mean().drop(columns=['day' ,'week'])\n",
    "energy_daily_2002 = hour_2002.groupby(['day' ]).mean().drop(columns=['hour','week'])\n",
    "energy_weekly_2002 = hour_2002.groupby(['week']).mean().drop(columns=['hour','day'])\n",
    "\n",
    "energy_daily_2002.describe()"
   ]
  },
  {
   "cell_type": "code",
   "execution_count": 28,
   "id": "8f89ee3f",
   "metadata": {},
   "outputs": [
    {
     "data": {
      "image/png": "[encoded data removed]",
      "text/plain": [
       "<Figure size 432x288 with 1 Axes>"
      ]
     },
     "metadata": {
      "needs_background": "light"
     },
     "output_type": "display_data"
    }
   ],
   "source": [
    "# plot energy 2001 vs 2002 daily\n",
    "\n",
    "plot_2001_2002_energy = pd.concat([energy_weekly_2001[\"energy_consumpt_2001\"],energy_weekly_2002[\"energy_consumpt_2002\"]], axis=1, keys=[\"energy_consumpt_2001\",\"energy_consumpt_2002\"])\n",
    "lines = plot_2001_2002_energy.plot.line()"
   ]
  },
  {
   "cell_type": "code",
   "execution_count": 29,
   "id": "5c6924b1",
   "metadata": {},
   "outputs": [
    {
     "data": {
      "image/png": "[encoded data removed]",
      "text/plain": [
       "<Figure size 432x288 with 1 Axes>"
      ]
     },
     "metadata": {
      "needs_background": "light"
     },
     "output_type": "display_data"
    }
   ],
   "source": [
    "# plot temp 2001 vs 2002 daily\n",
    "\n",
    "plot_2001_2002_temp = pd.concat([energy_weekly_2001[\"full_temp_2001\"],energy_weekly_2002[\"full_temp_2002\"]], axis=1, keys=[\"energy_consumpt_2001\",\"energy_consumpt_2002\"])\n",
    "lines = plot_2001_2002_temp.plot.line()"
   ]
  },
  {
   "cell_type": "code",
   "execution_count": 30,
   "id": "3dc47a07",
   "metadata": {},
   "outputs": [
    {
     "data": {
      "image/png": "[encoded data removed]",
      "text/plain": [
       "<Figure size 432x288 with 1 Axes>"
      ]
     },
     "metadata": {
      "needs_background": "light"
     },
     "output_type": "display_data"
    }
   ],
   "source": [
    "# plot humidity 2001 vs 2002 daily\n",
    "\n",
    "plot_2001_2002_hum = pd.concat([energy_weekly_2001[\"full_humid_2001\"],energy_weekly_2002[\"full_humid_2002\"]], axis=1, keys=[\"energy_consumpt_2001\",\"energy_consumpt_2002\"])\n",
    "lines = plot_2001_2002_hum.plot.line()"
   ]
  },
  {
   "cell_type": "code",
   "execution_count": 31,
   "id": "775458c8",
   "metadata": {},
   "outputs": [],
   "source": [
    "# create dfs for correlations\n",
    "T1 = energy_hourly_2001[[\"full_temp_2001\",\"energy_consumpt_2001\"]]\n",
    "T2 = energy_daily_2001[[\"full_temp_2001\",\"energy_consumpt_2001\"]]\n",
    "T3 = energy_weekly_2001[[\"full_temp_2001\",\"energy_consumpt_2001\"]]\n",
    "T4 = energy_hourly_2002[[\"full_temp_2002\",\"energy_consumpt_2002\"]]\n",
    "T5 = energy_daily_2002[[\"full_temp_2002\",\"energy_consumpt_2002\"]]\n",
    "T6 = energy_weekly_2002[[\"full_temp_2002\",\"energy_consumpt_2002\"]] \n",
    "\n",
    "H1 = energy_hourly_2001[[\"full_humid_2001\",\"energy_consumpt_2001\"]]\n",
    "H2 = energy_daily_2001[[\"full_humid_2001\",\"energy_consumpt_2001\"]]\n",
    "H3 = energy_weekly_2001[[\"full_humid_2001\",\"energy_consumpt_2001\"]]\n",
    "H4 = energy_hourly_2002[[\"full_humid_2002\",\"energy_consumpt_2002\"]]\n",
    "H5 = energy_daily_2002[[\"full_humid_2002\",\"energy_consumpt_2002\"]]\n",
    "H6 = energy_weekly_2002[[\"full_humid_2002\",\"energy_consumpt_2002\"]] \n"
   ]
  },
  {
   "cell_type": "markdown",
   "id": "868bfac9",
   "metadata": {},
   "source": [
    "### Linear Regression Energy Consumption vs. Temperature"
   ]
  },
  {
   "cell_type": "code",
   "execution_count": 32,
   "id": "26624a09",
   "metadata": {},
   "outputs": [
    {
     "data": {
      "image/png": "[encoded data removed]",
      "text/plain": [
       "<Figure size 432x288 with 1 Axes>"
      ]
     },
     "metadata": {
      "needs_background": "light"
     },
     "output_type": "display_data"
    },
    {
     "name": "stdout",
     "output_type": "stream",
     "text": [
      "R^2 =  0.29611662864575766\n"
     ]
    }
   ],
   "source": [
    "#Hourly 2001\n",
    "\n",
    "X = T1.iloc[:, 0].values.reshape(-1, 1)  # values converts it into a numpy array\n",
    "Y = T1.iloc[:, 1].values.reshape(-1, 1)  # -1 means that calculate the dimension of rows, but have 1 column\n",
    "linear_regressor = LinearRegression()  # create object for the class\n",
    "linear_regressor.fit(X, Y)  # perform linear regression\n",
    "Y_pred = linear_regressor.predict(X)  # make predictions\n",
    "\n",
    "plt.scatter(X, Y)\n",
    "plt.plot(X, Y_pred, color='red')\n",
    "plt.show()\n",
    "\n",
    "x_values_1 = T1[\"full_temp_2001\"]\n",
    "y_values_1 = T1[\"energy_consumpt_2001\"]\n",
    "\n",
    "correlation_matrix = np.corrcoef(x_values_1, y_values_1)\n",
    "correlation_xy = correlation_matrix[0,1]\n",
    "r_squared = correlation_xy**2\n",
    "\n",
    "print(\"R^2 = \", r_squared)"
   ]
  },
  {
   "cell_type": "code",
   "execution_count": 33,
   "id": "577b3098",
   "metadata": {},
   "outputs": [
    {
     "data": {
      "image/png": "[encoded data removed]",
      "text/plain": [
       "<Figure size 432x288 with 1 Axes>"
      ]
     },
     "metadata": {
      "needs_background": "light"
     },
     "output_type": "display_data"
    },
    {
     "name": "stdout",
     "output_type": "stream",
     "text": [
      "R^2 =  0.18625832693572011\n"
     ]
    }
   ],
   "source": [
    "#Daily 2001\n",
    "\n",
    "X = T2.iloc[:, 0].values.reshape(-1, 1)  # values converts it into a numpy array\n",
    "Y = T2.iloc[:, 1].values.reshape(-1, 1)  # -1 means that calculate the dimension of rows, but have 1 column\n",
    "linear_regressor = LinearRegression()  # create object for the class\n",
    "linear_regressor.fit(X, Y)  # perform linear regression\n",
    "Y_pred = linear_regressor.predict(X)  # make predictions\n",
    "\n",
    "plt.scatter(X, Y)\n",
    "plt.plot(X, Y_pred, color='red')\n",
    "plt.show()\n",
    "\n",
    "x_values_2 = T2[\"full_temp_2001\"]\n",
    "y_values_2 = T2[\"energy_consumpt_2001\"]\n",
    "\n",
    "correlation_matrix = np.corrcoef(x_values_2, y_values_2)\n",
    "correlation_xy = correlation_matrix[0,1]\n",
    "r_squared = correlation_xy**2\n",
    "\n",
    "print(\"R^2 = \", r_squared)"
   ]
  },
  {
   "cell_type": "code",
   "execution_count": 34,
   "id": "4eae81a7",
   "metadata": {},
   "outputs": [
    {
     "data": {
      "image/png": "[encoded data removed]",
      "text/plain": [
       "<Figure size 432x288 with 1 Axes>"
      ]
     },
     "metadata": {
      "needs_background": "light"
     },
     "output_type": "display_data"
    },
    {
     "name": "stdout",
     "output_type": "stream",
     "text": [
      "R^2 =  0.5481518775403316\n"
     ]
    }
   ],
   "source": [
    "#Weekly 2001\n",
    "\n",
    "X = T3.iloc[:, 0].values.reshape(-1, 1)  # values converts it into a numpy array\n",
    "Y = T3.iloc[:, 1].values.reshape(-1, 1)  # -1 means that calculate the dimension of rows, but have 1 column\n",
    "linear_regressor = LinearRegression()  # create object for the class\n",
    "linear_regressor.fit(X, Y)  # perform linear regression\n",
    "Y_pred = linear_regressor.predict(X)  # make predictions\n",
    "\n",
    "plt.scatter(X, Y)\n",
    "plt.plot(X, Y_pred, color='red')\n",
    "plt.show()\n",
    "\n",
    "x_values_3 = T3[\"full_temp_2001\"]\n",
    "y_values_3 = T3[\"energy_consumpt_2001\"]\n",
    "\n",
    "correlation_matrix = np.corrcoef(x_values_3, y_values_3)\n",
    "correlation_xy = correlation_matrix[0,1]\n",
    "r_squared = correlation_xy**2\n",
    "\n",
    "print(\"R^2 = \", r_squared)"
   ]
  },
  {
   "cell_type": "code",
   "execution_count": 35,
   "id": "2ef3d057",
   "metadata": {},
   "outputs": [
    {
     "data": {
      "image/png": "[encoded data removed]",
      "text/plain": [
       "<Figure size 432x288 with 1 Axes>"
      ]
     },
     "metadata": {
      "needs_background": "light"
     },
     "output_type": "display_data"
    },
    {
     "name": "stdout",
     "output_type": "stream",
     "text": [
      "R^2 =  0.07377183941233308\n"
     ]
    }
   ],
   "source": [
    "#Hourly 2002\n",
    "\n",
    "X = T4.iloc[:, 0].values.reshape(-1, 1)  # values converts it into a numpy array\n",
    "Y = T4.iloc[:, 1].values.reshape(-1, 1)  # -1 means that calculate the dimension of rows, but have 1 column\n",
    "linear_regressor = LinearRegression()  # create object for the class\n",
    "linear_regressor.fit(X, Y)  # perform linear regression\n",
    "Y_pred = linear_regressor.predict(X)  # make predictions\n",
    "\n",
    "plt.scatter(X, Y)\n",
    "plt.plot(X, Y_pred, color='red')\n",
    "plt.show()\n",
    "\n",
    "x_values_4 = T4[\"full_temp_2002\"]\n",
    "y_values_4 = T4[\"energy_consumpt_2002\"]\n",
    "\n",
    "correlation_matrix = np.corrcoef(x_values_4, y_values_4)\n",
    "correlation_xy = correlation_matrix[0,1]\n",
    "r_squared = correlation_xy**2\n",
    "\n",
    "print(\"R^2 = \", r_squared)"
   ]
  },
  {
   "cell_type": "code",
   "execution_count": 36,
   "id": "d4aed189",
   "metadata": {},
   "outputs": [
    {
     "data": {
      "image/png": "[encoded data removed]",
      "text/plain": [
       "<Figure size 432x288 with 1 Axes>"
      ]
     },
     "metadata": {
      "needs_background": "light"
     },
     "output_type": "display_data"
    },
    {
     "name": "stdout",
     "output_type": "stream",
     "text": [
      "R^2 =  0.22063604307227852\n"
     ]
    }
   ],
   "source": [
    "#Daily 2002\n",
    "\n",
    "X = T5.iloc[:, 0].values.reshape(-1, 1)  # values converts it into a numpy array\n",
    "Y = T5.iloc[:, 1].values.reshape(-1, 1)  # -1 means that calculate the dimension of rows, but have 1 column\n",
    "linear_regressor = LinearRegression()  # create object for the class\n",
    "linear_regressor.fit(X, Y)  # perform linear regression\n",
    "Y_pred = linear_regressor.predict(X)  # make predictions\n",
    "\n",
    "plt.scatter(X, Y)\n",
    "plt.plot(X, Y_pred, color='red')\n",
    "plt.show()\n",
    "\n",
    "x_values_5 = T5[\"full_temp_2002\"]\n",
    "y_values_5 = T5[\"energy_consumpt_2002\"]\n",
    "\n",
    "correlation_matrix = np.corrcoef(x_values_5, y_values_5)\n",
    "correlation_xy = correlation_matrix[0,1]\n",
    "r_squared = correlation_xy**2\n",
    "\n",
    "print(\"R^2 = \", r_squared)"
   ]
  },
  {
   "cell_type": "code",
   "execution_count": 37,
   "id": "b4698f59",
   "metadata": {},
   "outputs": [
    {
     "data": {
      "image/png": "[encoded data removed]",
      "text/plain": [
       "<Figure size 432x288 with 1 Axes>"
      ]
     },
     "metadata": {
      "needs_background": "light"
     },
     "output_type": "display_data"
    },
    {
     "name": "stdout",
     "output_type": "stream",
     "text": [
      "R^2 =  0.28573792493647215\n"
     ]
    }
   ],
   "source": [
    "#Weekly 2002\n",
    "\n",
    "X = T6.iloc[:, 0].values.reshape(-1, 1)  # values converts it into a numpy array\n",
    "Y = T6.iloc[:, 1].values.reshape(-1, 1)  # -1 means that calculate the dimension of rows, but have 1 column\n",
    "linear_regressor = LinearRegression()  # create object for the class\n",
    "linear_regressor.fit(X, Y)  # perform linear regression\n",
    "Y_pred = linear_regressor.predict(X)  # make predictions\n",
    "\n",
    "plt.scatter(X, Y)\n",
    "plt.plot(X, Y_pred, color='red')\n",
    "plt.show()\n",
    "\n",
    "x_values_6 = T6[\"full_temp_2002\"]\n",
    "y_values_6 = T6[\"energy_consumpt_2002\"]\n",
    "\n",
    "correlation_matrix = np.corrcoef(x_values_6, y_values_6)\n",
    "correlation_xy = correlation_matrix[0,1]\n",
    "r_squared = correlation_xy**2\n",
    "\n",
    "print(\"R^2 = \", r_squared)"
   ]
  },
  {
   "cell_type": "markdown",
   "id": "0e9cdc24",
   "metadata": {},
   "source": [
    "### Linear Regression Energy Consumption vs. Humidity"
   ]
  },
  {
   "cell_type": "code",
   "execution_count": 38,
   "id": "e7b89fbd",
   "metadata": {},
   "outputs": [
    {
     "data": {
      "image/png": "[encoded data removed]",
      "text/plain": [
       "<Figure size 432x288 with 1 Axes>"
      ]
     },
     "metadata": {
      "needs_background": "light"
     },
     "output_type": "display_data"
    },
    {
     "name": "stdout",
     "output_type": "stream",
     "text": [
      "R^2 =  0.34189100646068443\n"
     ]
    }
   ],
   "source": [
    "#Hourly 2001\n",
    "\n",
    "X = H1.iloc[:, 0].values.reshape(-1, 1)  # values converts it into a numpy array\n",
    "Y = H1.iloc[:, 1].values.reshape(-1, 1)  # -1 means that calculate the dimension of rows, but have 1 column\n",
    "linear_regressor = LinearRegression()  # create object for the class\n",
    "linear_regressor.fit(X, Y)  # perform linear regression\n",
    "Y_pred = linear_regressor.predict(X)  # make predictions\n",
    "\n",
    "plt.scatter(X, Y)\n",
    "plt.plot(X, Y_pred, color='red')\n",
    "plt.show()\n",
    "\n",
    "x_values_7 = H1[\"full_humid_2001\"]\n",
    "y_values_7 = H1[\"energy_consumpt_2001\"]\n",
    "\n",
    "correlation_matrix = np.corrcoef(x_values_7, y_values_7)\n",
    "correlation_xy = correlation_matrix[0,1]\n",
    "r_squared = correlation_xy**2\n",
    "\n",
    "print(\"R^2 = \", r_squared)"
   ]
  },
  {
   "cell_type": "code",
   "execution_count": 39,
   "id": "e9df3030",
   "metadata": {},
   "outputs": [
    {
     "data": {
      "image/png": "[encoded data removed]",
      "text/plain": [
       "<Figure size 432x288 with 1 Axes>"
      ]
     },
     "metadata": {
      "needs_background": "light"
     },
     "output_type": "display_data"
    },
    {
     "name": "stdout",
     "output_type": "stream",
     "text": [
      "R^2 =  0.13045997003658147\n"
     ]
    }
   ],
   "source": [
    "#Daily 2001\n",
    "\n",
    "X = H2.iloc[:, 0].values.reshape(-1, 1)  # values converts it into a numpy array\n",
    "Y = H2.iloc[:, 1].values.reshape(-1, 1)  # -1 means that calculate the dimension of rows, but have 1 column\n",
    "linear_regressor = LinearRegression()  # create object for the class\n",
    "linear_regressor.fit(X, Y)  # perform linear regression\n",
    "Y_pred = linear_regressor.predict(X)  # make predictions\n",
    "\n",
    "plt.scatter(X, Y)\n",
    "plt.plot(X, Y_pred, color='red')\n",
    "plt.show()\n",
    "\n",
    "x_values_8 = H2[\"full_humid_2001\"]\n",
    "y_values_8 = H2[\"energy_consumpt_2001\"]\n",
    "\n",
    "correlation_matrix = np.corrcoef(x_values_8, y_values_8)\n",
    "correlation_xy = correlation_matrix[0,1]\n",
    "r_squared = correlation_xy**2\n",
    "\n",
    "print(\"R^2 = \", r_squared)"
   ]
  },
  {
   "cell_type": "code",
   "execution_count": 40,
   "id": "8ababbf9",
   "metadata": {},
   "outputs": [
    {
     "data": {
      "image/png": "[encoded data removed]",
      "text/plain": [
       "<Figure size 432x288 with 1 Axes>"
      ]
     },
     "metadata": {
      "needs_background": "light"
     },
     "output_type": "display_data"
    },
    {
     "name": "stdout",
     "output_type": "stream",
     "text": [
      "R^2 =  0.007135255648552538\n"
     ]
    }
   ],
   "source": [
    "#Weekly 2001\n",
    "\n",
    "X = H3.iloc[:, 0].values.reshape(-1, 1)  # values converts it into a numpy array\n",
    "Y = H3.iloc[:, 1].values.reshape(-1, 1)  # -1 means that calculate the dimension of rows, but have 1 column\n",
    "linear_regressor = LinearRegression()  # create object for the class\n",
    "linear_regressor.fit(X, Y)  # perform linear regression\n",
    "Y_pred = linear_regressor.predict(X)  # make predictions\n",
    "\n",
    "plt.scatter(X, Y)\n",
    "plt.plot(X, Y_pred, color='red')\n",
    "plt.show()\n",
    "\n",
    "x_values_9 = H3[\"full_humid_2001\"]\n",
    "y_values_9 = H3[\"energy_consumpt_2001\"]\n",
    "\n",
    "correlation_matrix = np.corrcoef(x_values_9, y_values_9)\n",
    "correlation_xy = correlation_matrix[0,1]\n",
    "r_squared = correlation_xy**2\n",
    "\n",
    "print(\"R^2 = \", r_squared)"
   ]
  },
  {
   "cell_type": "code",
   "execution_count": 41,
   "id": "3b2bbf19",
   "metadata": {},
   "outputs": [
    {
     "data": {
      "image/png": "[encoded data removed]",
      "text/plain": [
       "<Figure size 432x288 with 1 Axes>"
      ]
     },
     "metadata": {
      "needs_background": "light"
     },
     "output_type": "display_data"
    },
    {
     "name": "stdout",
     "output_type": "stream",
     "text": [
      "R^2 =  0.13816665832031447\n"
     ]
    }
   ],
   "source": [
    "#Hourly 2002\n",
    "\n",
    "X = H4.iloc[:, 0].values.reshape(-1, 1)  # values converts it into a numpy array\n",
    "Y = H4.iloc[:, 1].values.reshape(-1, 1)  # -1 means that calculate the dimension of rows, but have 1 column\n",
    "linear_regressor = LinearRegression()  # create object for the class\n",
    "linear_regressor.fit(X, Y)  # perform linear regression\n",
    "Y_pred = linear_regressor.predict(X)  # make predictions\n",
    "\n",
    "plt.scatter(X, Y)\n",
    "plt.plot(X, Y_pred, color='red')\n",
    "plt.show()\n",
    "\n",
    "x_values_10 = H4[\"full_humid_2002\"]\n",
    "y_values_10 = H4[\"energy_consumpt_2002\"]\n",
    "\n",
    "correlation_matrix = np.corrcoef(x_values_10, y_values_10)\n",
    "correlation_xy = correlation_matrix[0,1]\n",
    "r_squared = correlation_xy**2\n",
    "\n",
    "print(\"R^2 = \", r_squared)"
   ]
  },
  {
   "cell_type": "code",
   "execution_count": 42,
   "id": "8a57e9dd",
   "metadata": {},
   "outputs": [
    {
     "data": {
      "image/png": "[encoded data removed]",
      "text/plain": [
       "<Figure size 432x288 with 1 Axes>"
      ]
     },
     "metadata": {
      "needs_background": "light"
     },
     "output_type": "display_data"
    },
    {
     "name": "stdout",
     "output_type": "stream",
     "text": [
      "R^2 =  0.015302693265717086\n"
     ]
    }
   ],
   "source": [
    "#Daily 2002\n",
    "\n",
    "X = H5.iloc[:, 0].values.reshape(-1, 1)  # values converts it into a numpy array\n",
    "Y = H5.iloc[:, 1].values.reshape(-1, 1)  # -1 means that calculate the dimension of rows, but have 1 column\n",
    "linear_regressor = LinearRegression()  # create object for the class\n",
    "linear_regressor.fit(X, Y)  # perform linear regression\n",
    "Y_pred = linear_regressor.predict(X)  # make predictions\n",
    "\n",
    "plt.scatter(X, Y)\n",
    "plt.plot(X, Y_pred, color='red')\n",
    "plt.show()\n",
    "\n",
    "x_values_11 = H5[\"full_humid_2002\"]\n",
    "y_values_11 = H5[\"energy_consumpt_2002\"]\n",
    "\n",
    "correlation_matrix = np.corrcoef(x_values_11, y_values_11)\n",
    "correlation_xy = correlation_matrix[0,1]\n",
    "r_squared = correlation_xy**2\n",
    "\n",
    "print(\"R^2 = \", r_squared)"
   ]
  },
  {
   "cell_type": "code",
   "execution_count": 43,
   "id": "74db91fb",
   "metadata": {},
   "outputs": [
    {
     "data": {
      "image/png": "[encoded data removed]",
      "text/plain": [
       "<Figure size 432x288 with 1 Axes>"
      ]
     },
     "metadata": {
      "needs_background": "light"
     },
     "output_type": "display_data"
    },
    {
     "name": "stdout",
     "output_type": "stream",
     "text": [
      "R^2 =  0.2168503533777266\n"
     ]
    }
   ],
   "source": [
    "#Weekly 2002\n",
    "\n",
    "X = H6.iloc[:, 0].values.reshape(-1, 1)  # values converts it into a numpy array\n",
    "Y = H6.iloc[:, 1].values.reshape(-1, 1)  # -1 means that calculate the dimension of rows, but have 1 column\n",
    "linear_regressor = LinearRegression()  # create object for the class\n",
    "linear_regressor.fit(X, Y)  # perform linear regression\n",
    "Y_pred = linear_regressor.predict(X)  # make predictions\n",
    "\n",
    "plt.scatter(X, Y)\n",
    "plt.plot(X, Y_pred, color='red')\n",
    "plt.show()\n",
    "\n",
    "x_values_12 = H6[\"full_humid_2002\"]\n",
    "y_values_12 = H6[\"energy_consumpt_2002\"]\n",
    "\n",
    "correlation_matrix = np.corrcoef(x_values_12, y_values_12)\n",
    "correlation_xy = correlation_matrix[0,1]\n",
    "r_squared = correlation_xy**2\n",
    "\n",
    "print(\"R^2 = \", r_squared)"
   ]
  },
  {
   "cell_type": "markdown",
   "id": "68ba29bf",
   "metadata": {},
   "source": [
    "### Polynomal Regression Energy Consumption vs. Temperature"
   ]
  },
  {
   "cell_type": "code",
   "execution_count": 44,
   "id": "b8c2f046",
   "metadata": {},
   "outputs": [
    {
     "data": {
      "image/png": "[encoded data removed]",
      "text/plain": [
       "<Figure size 432x288 with 1 Axes>"
      ]
     },
     "metadata": {
      "needs_background": "light"
     },
     "output_type": "display_data"
    },
    {
     "name": "stdout",
     "output_type": "stream",
     "text": [
      "The correlation coefficient is:  0.30946126076266356\n"
     ]
    }
   ],
   "source": [
    "poly_1 = np.poly1d(np.polyfit(x_values_1, y_values_1, 5))\n",
    "\n",
    "line_1 = np.linspace(15, 21, 100)\n",
    "\n",
    "plt.scatter(x_values_1, y_values_1)\n",
    "plt.plot(line_1, poly_1(line_1))\n",
    "plt.show()\n",
    "print(\"The correlation coefficient is: \", r2_score(y_values_1, poly_1(x_values_1)))"
   ]
  },
  {
   "cell_type": "code",
   "execution_count": 45,
   "id": "2420f4fe",
   "metadata": {},
   "outputs": [
    {
     "data": {
      "image/png": "[encoded data removed]",
      "text/plain": [
       "<Figure size 432x288 with 1 Axes>"
      ]
     },
     "metadata": {
      "needs_background": "light"
     },
     "output_type": "display_data"
    },
    {
     "name": "stdout",
     "output_type": "stream",
     "text": [
      "The correlation coefficient is:  0.3325079879291365\n"
     ]
    }
   ],
   "source": [
    "poly_2 = np.poly1d(np.polyfit(x_values_2, y_values_2, 6))\n",
    "\n",
    "line_2 = np.linspace(16, 21, 100)\n",
    "\n",
    "plt.scatter(x_values_2, y_values_2)\n",
    "plt.plot(line_2, poly_2(line_2))\n",
    "plt.show()\n",
    "print(\"The correlation coefficient is: \", r2_score(y_values_2, poly_2(x_values_2)))"
   ]
  },
  {
   "cell_type": "code",
   "execution_count": 46,
   "id": "1dca7b43",
   "metadata": {},
   "outputs": [
    {
     "data": {
      "image/png": "[encoded data removed]",
      "text/plain": [
       "<Figure size 432x288 with 1 Axes>"
      ]
     },
     "metadata": {
      "needs_background": "light"
     },
     "output_type": "display_data"
    },
    {
     "name": "stdout",
     "output_type": "stream",
     "text": [
      "The correlation coefficient is:  0.9228718554021558\n"
     ]
    }
   ],
   "source": [
    "poly_3 = np.poly1d(np.polyfit(x_values_3, y_values_3, 4))\n",
    "\n",
    "line_3 = np.linspace(1, 30, 100)\n",
    "\n",
    "plt.scatter(x_values_3, y_values_3)\n",
    "plt.plot(line_3, poly_3(line_3))\n",
    "plt.show()\n",
    "print(\"The correlation coefficient is: \", r2_score(y_values_3, poly_3(x_values_3)))"
   ]
  },
  {
   "cell_type": "code",
   "execution_count": 47,
   "id": "6d73b3d1",
   "metadata": {},
   "outputs": [
    {
     "data": {
      "image/png": "[encoded data removed]",
      "text/plain": [
       "<Figure size 432x288 with 1 Axes>"
      ]
     },
     "metadata": {
      "needs_background": "light"
     },
     "output_type": "display_data"
    },
    {
     "name": "stdout",
     "output_type": "stream",
     "text": [
      "The correlation coefficient is:  0.39483735997714\n"
     ]
    }
   ],
   "source": [
    "poly_4 = np.poly1d(np.polyfit(x_values_4, y_values_4, 5))\n",
    "\n",
    "\n",
    "line_4 = np.linspace(17.5, 19, 80)\n",
    "\n",
    "plt.scatter(x_values_4, y_values_4)\n",
    "plt.plot(line_4, poly_4(line_4))\n",
    "plt.show()\n",
    "print(\"The correlation coefficient is: \", r2_score(y_values_4, poly_4(x_values_4)))"
   ]
  },
  {
   "cell_type": "code",
   "execution_count": 48,
   "id": "de943e18",
   "metadata": {},
   "outputs": [
    {
     "data": {
      "image/png": "[encoded data removed]",
      "text/plain": [
       "<Figure size 432x288 with 1 Axes>"
      ]
     },
     "metadata": {
      "needs_background": "light"
     },
     "output_type": "display_data"
    },
    {
     "name": "stdout",
     "output_type": "stream",
     "text": [
      "The correlation coefficient is:  0.43121085974759976\n"
     ]
    }
   ],
   "source": [
    "poly_5 = np.poly1d(np.polyfit(x_values_5, y_values_5, 6))\n",
    "\n",
    "\n",
    "\n",
    "line_5 = np.linspace(16, 21, 100)\n",
    "\n",
    "\n",
    "\n",
    "plt.scatter(x_values_5, y_values_5)\n",
    "plt.plot(line_5, poly_5(line_5))\n",
    "plt.show()\n",
    "print(\"The correlation coefficient is: \", r2_score(y_values_5, poly_5(x_values_5)))"
   ]
  },
  {
   "cell_type": "code",
   "execution_count": 49,
   "id": "91a21654",
   "metadata": {},
   "outputs": [
    {
     "data": {
      "image/png": "[encoded data removed]",
      "text/plain": [
       "<Figure size 432x288 with 1 Axes>"
      ]
     },
     "metadata": {
      "needs_background": "light"
     },
     "output_type": "display_data"
    },
    {
     "name": "stdout",
     "output_type": "stream",
     "text": [
      "The correlation coefficient is:  0.7102835018141971\n"
     ]
    }
   ],
   "source": [
    "poly_6 = np.poly1d(np.polyfit(x_values_6, y_values_6, 4))\n",
    "\n",
    "line_6 = np.linspace(4, 30, 100)\n",
    "\n",
    "plt.scatter(x_values_6, y_values_6)\n",
    "plt.plot(line_6, poly_6(line_6))\n",
    "plt.show()\n",
    "print(\"The correlation coefficient is: \", r2_score(y_values_6, poly_6(x_values_6)))"
   ]
  },
  {
   "cell_type": "markdown",
   "id": "a04f5e3f",
   "metadata": {},
   "source": [
    "### Polynomal Regression Energy Consumption vs. Humidity"
   ]
  },
  {
   "cell_type": "code",
   "execution_count": 50,
   "id": "4d943b46",
   "metadata": {},
   "outputs": [
    {
     "data": {
      "image/png": "[encoded data removed]",
      "text/plain": [
       "<Figure size 432x288 with 1 Axes>"
      ]
     },
     "metadata": {
      "needs_background": "light"
     },
     "output_type": "display_data"
    },
    {
     "name": "stdout",
     "output_type": "stream",
     "text": [
      "The correlation coefficient is:  0.5886825340233037\n"
     ]
    }
   ],
   "source": [
    "poly_7 = np.poly1d(np.polyfit(x_values_7, y_values_7, 4))\n",
    "line_7 = np.linspace(54, 68, 100)\n",
    "plt.scatter(x_values_7, y_values_7)\n",
    "plt.plot(line_7, poly_7(line_7))\n",
    "plt.show()\n",
    "print(\"The correlation coefficient is: \", r2_score(y_values_7, poly_7(x_values_7)))\n"
   ]
  },
  {
   "cell_type": "code",
   "execution_count": 51,
   "id": "b5093fb0",
   "metadata": {},
   "outputs": [
    {
     "data": {
      "image/png": "[encoded data removed]",
      "text/plain": [
       "<Figure size 432x288 with 1 Axes>"
      ]
     },
     "metadata": {
      "needs_background": "light"
     },
     "output_type": "display_data"
    },
    {
     "name": "stdout",
     "output_type": "stream",
     "text": [
      "The correlation coefficient is:  0.2784022758567616\n"
     ]
    }
   ],
   "source": [
    "poly_8 = np.poly1d(np.polyfit(x_values_8, y_values_8, 5))\n",
    "line_8 = np.linspace(56, 69, 100)\n",
    "plt.scatter(x_values_8, y_values_8)\n",
    "plt.plot(line_8, poly_8(line_8))\n",
    "plt.show()\n",
    "print(\"The correlation coefficient is: \", r2_score(y_values_8, poly_8(x_values_8)))\n"
   ]
  },
  {
   "cell_type": "code",
   "execution_count": 52,
   "id": "daf5db76",
   "metadata": {},
   "outputs": [
    {
     "data": {
      "image/png": "[encoded data removed]",
      "text/plain": [
       "<Figure size 432x288 with 1 Axes>"
      ]
     },
     "metadata": {
      "needs_background": "light"
     },
     "output_type": "display_data"
    },
    {
     "name": "stdout",
     "output_type": "stream",
     "text": [
      "The correlation coefficient is:  0.1953603466154069\n"
     ]
    }
   ],
   "source": [
    "poly_9 = np.poly1d(np.polyfit(x_values_9, y_values_9, 4))\n",
    "line_9 = np.linspace(50, 76, 100)\n",
    "plt.scatter(x_values_9, y_values_9)\n",
    "plt.plot(line_9, poly_9(line_9))\n",
    "plt.show()\n",
    "print(\"The correlation coefficient is: \", r2_score(y_values_9, poly_9(x_values_9)))\n"
   ]
  },
  {
   "cell_type": "code",
   "execution_count": 53,
   "id": "8f20a3b5",
   "metadata": {},
   "outputs": [
    {
     "data": {
      "image/png": "[encoded data removed]",
      "text/plain": [
       "<Figure size 432x288 with 1 Axes>"
      ]
     },
     "metadata": {
      "needs_background": "light"
     },
     "output_type": "display_data"
    },
    {
     "name": "stdout",
     "output_type": "stream",
     "text": [
      "The correlation coefficient is:  0.7498539932521808\n"
     ]
    }
   ],
   "source": [
    "poly_10 = np.poly1d(np.polyfit(x_values_10, y_values_10, 4))\n",
    "line_10 = np.linspace(59, 64, 100)\n",
    "plt.scatter(x_values_10, y_values_10)\n",
    "plt.plot(line_10, poly_10(line_10))\n",
    "plt.show()\n",
    "print(\"The correlation coefficient is: \", r2_score(y_values_10, poly_10(x_values_10)))"
   ]
  },
  {
   "cell_type": "code",
   "execution_count": 54,
   "id": "f5389590",
   "metadata": {},
   "outputs": [
    {
     "data": {
      "image/png": "[encoded data removed]",
      "text/plain": [
       "<Figure size 432x288 with 1 Axes>"
      ]
     },
     "metadata": {
      "needs_background": "light"
     },
     "output_type": "display_data"
    },
    {
     "name": "stdout",
     "output_type": "stream",
     "text": [
      "The correlation coefficient is:  0.10596934945346503\n"
     ]
    }
   ],
   "source": [
    "poly_11 = np.poly1d(np.polyfit(x_values_11, y_values_11, 4))\n",
    "line_11 = np.linspace(56, 67, 100)\n",
    "plt.scatter(x_values_11, y_values_11)\n",
    "plt.plot(line_11, poly_11(line_11))\n",
    "plt.show()\n",
    "print(\"The correlation coefficient is: \", r2_score(y_values_11, poly_11(x_values_11)))"
   ]
  },
  {
   "cell_type": "code",
   "execution_count": 55,
   "id": "deaa2e15",
   "metadata": {},
   "outputs": [
    {
     "data": {
      "image/png": "[encoded data removed]",
      "text/plain": [
       "<Figure size 432x288 with 1 Axes>"
      ]
     },
     "metadata": {
      "needs_background": "light"
     },
     "output_type": "display_data"
    },
    {
     "name": "stdout",
     "output_type": "stream",
     "text": [
      "The correlation coefficient is:  0.39688815764159135\n"
     ]
    }
   ],
   "source": [
    "poly_12 = np.poly1d(np.polyfit(x_values_12, y_values_12, 5))\n",
    "line_12 = np.linspace(38, 85, 100)\n",
    "plt.scatter(x_values_12, y_values_12)\n",
    "plt.plot(line_12, poly_12(line_12))\n",
    "plt.show()\n",
    "print(\"The correlation coefficient is: \", r2_score(y_values_12, poly_12(x_values_12)))"
   ]
  },
  {
   "cell_type": "markdown",
   "id": "7e38b5d7",
   "metadata": {},
   "source": [
    "## Conclusion\n",
    "\n",
    "After first inspection of data, we realized that it was best for the analysis to separate data between years and to remove the last 24 values since it exceeded the normal amount of hours for the year. We removed the outliers in 2001 by using a percentile range of 0.01 to 0.99. Furthermore, we created three new data frames for each year, representing the grouped data by hour, by day and by week. We compared individual variables between years. For example, Energy consumption in 2001 vs. 2002.\n",
    "\n",
    "For the analysis we started with the most basic of tests which is a linear regression using the method of least squares. There were two regressions made> one that compare Energy Consumption with Temperature and the other one that compares Energy Consumption with Humidity. This test was carried out on the three level of groupings to analyze their correlation coefficient and see if there was a good prediction model. The results were the following:\n",
    "\n",
    "- Energy Consumption vs. Temperature Hourly 2001: 0.29611662864575766\n",
    "- Energy Consumption vs. Temperature Daily 2001: 0.18625832693572011\n",
    "- Energy Consumption vs. Temperature Weekly 2001: 0.5481518775403316\n",
    "- Energy Consumption vs. Temperature Hourly 2002: 0.07377183941233308\n",
    "- Energy Consumption vs. Temperature Daily 2002: 0.22063604307227852\n",
    "- Energy Consumption vs. Temperature Weekly 2002: 0.28573792493647215\n",
    "\n",
    "\n",
    "- Energy Consumption vs. Humidity Hourly 2001: 0.34189100646068443\n",
    "- Energy Consumption vs. Humidity Daily 2001: 0.13045997003658147\n",
    "- Energy Consumption vs. Humidity Weekly 2001: 0.007135255648552538\n",
    "- Energy Consumption vs. Humidity Hourly 2002: 0.13816665832031447\n",
    "- Energy Consumption vs. Humidity Daily 2002: 0.015302693265717086\n",
    "- Energy Consumption vs. Humidity Weekly 2002: 0.2168503533777266\n",
    "\n",
    "The models did not present strong prediction capabilities so we decided to try polynomial regressions. The results for these test were the following.\n",
    "\n",
    "- Energy Consumption vs. Temperature Hourly 2001: 0.30946126076266356\n",
    "- Energy Consumption vs. Temperature Daily 2001: 0.3325079879291365\n",
    "- Energy Consumption vs. Temperature Weekly 2001: 0.9228718554021558\n",
    "- Energy Consumption vs. Temperature Hourly 2002: 0.39483735997714\n",
    "- Energy Consumption vs. Temperature Daily 2002: 0.43121085974759976\n",
    "\n",
    "\n",
    "\n",
    "- Energy Consumption vs. Humidity Hourly 2001: 0.5886825340233037\n",
    "- Energy Consumption vs. Humidity Daily 2001: 0.2784022758567616\n",
    "- Energy Consumption vs. Humidity Weekly 2001: 0.1953603466154069\n",
    "- Energy Consumption vs. Humidity Hourly 2002: 0.7498539932521808\n",
    "- Energy Consumption vs. Humidity Daily 2002: 0.10596934945346503\n",
    "- Energy Consumption vs. Humidity Weekly 2002: 0.39688815764159135\n",
    "\n",
    "Finally we can conclude that a polinomial regression of the 4th degree that compares Energy Consumption vs. Temperature is a good model for predicting values within this dataset. The highest coefficients were the following:\n",
    "\n",
    "- Energy Consumption vs. Temperature Weekly 2001: 0.9228718554021558\n",
    "- Energy Consumption vs. Temperature Weekly 2002: 0.7102835018141971\n",
    "- Energy Consumption vs. Humidity Hourly 2002: 0.7498539932521808\n",
    "\n",
    "Thus concluding that the best way to predict energy consumption for a year is to use a 4th degree polynomial regression for data grouped weekly."
   ]
  },
  {
   "cell_type": "markdown",
   "id": "7f591f9c",
   "metadata": {},
   "source": [
    "### 3D Modelling of Weekly Summarized Dataframe for 2001"
   ]
  },
  {
   "cell_type": "code",
   "execution_count": 56,
   "id": "64b96858",
   "metadata": {},
   "outputs": [
    {
     "data": {
      "image/png": "[encoded data removed]",
      "text/plain": [
       "<Figure size 720x720 with 1 Axes>"
      ]
     },
     "metadata": {
      "needs_background": "light"
     },
     "output_type": "display_data"
    }
   ],
   "source": [
    "\n",
    "\n",
    "x = energy_weekly_2001[\"energy_consumpt_2001\"]\n",
    "y = energy_weekly_2001[\"full_temp_2001\"]\n",
    "z = energy_weekly_2001[\"full_humid_2001\"]\n",
    "\n",
    "fig = plt.figure(figsize=(10, 10))\n",
    "ax = fig.add_subplot(111, projection='3d')\n",
    "ax.scatter(x, y, z,\n",
    "           linewidths=0.5, alpha=.5,\n",
    "           edgecolor='k',\n",
    "           s = 200,\n",
    "           c=z)\n",
    "plt.show()"
   ]
  }
 ],
 "metadata": {
  "celltoolbar": "Raw Cell Format",
  "kernelspec": {
   "display_name": "Python 3",
   "language": "python",
   "name": "python3"
  },
  "language_info": {
   "codemirror_mode": {
    "name": "ipython",
    "version": 3
   },
   "file_extension": ".py",
   "mimetype": "text/x-python",
   "name": "python",
   "nbconvert_exporter": "python",
   "pygments_lexer": "ipython3",
   "version": "3.7.10"
  }
 },
 "nbformat": 4,
 "nbformat_minor": 5
}
